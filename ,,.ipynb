{
 "cells": [
  {
   "cell_type": "code",
   "execution_count": 5,
   "id": "fd05490b",
   "metadata": {},
   "outputs": [
    {
     "name": "stdout",
     "output_type": "stream",
     "text": [
      "Mean Absolute Error: 8.62998825455484\n",
      "R-squared: 0.22986088771736157\n"
     ]
    },
    {
     "ename": "NameError",
     "evalue": "name 'df' is not defined",
     "output_type": "error",
     "traceback": [
      "\u001b[1;31m---------------------------------------------------------------------------\u001b[0m",
      "\u001b[1;31mNameError\u001b[0m                                 Traceback (most recent call last)",
      "\u001b[1;32m<ipython-input-5-62f79cb20489>\u001b[0m in \u001b[0;36m<module>\u001b[1;34m\u001b[0m\n\u001b[0;32m     41\u001b[0m \u001b[1;31m# Aggiungi il nome del giocatore al test set\u001b[0m\u001b[1;33m\u001b[0m\u001b[1;33m\u001b[0m\u001b[1;33m\u001b[0m\u001b[0m\n\u001b[0;32m     42\u001b[0m \u001b[0mX_test_with_name\u001b[0m \u001b[1;33m=\u001b[0m \u001b[0mX_test\u001b[0m\u001b[1;33m.\u001b[0m\u001b[0mcopy\u001b[0m\u001b[1;33m(\u001b[0m\u001b[1;33m)\u001b[0m\u001b[1;33m\u001b[0m\u001b[1;33m\u001b[0m\u001b[0m\n\u001b[1;32m---> 43\u001b[1;33m \u001b[0mX_test_with_name\u001b[0m\u001b[1;33m[\u001b[0m\u001b[1;34m'Player Name'\u001b[0m\u001b[1;33m]\u001b[0m \u001b[1;33m=\u001b[0m \u001b[0mdf\u001b[0m\u001b[1;33m.\u001b[0m\u001b[0mloc\u001b[0m\u001b[1;33m[\u001b[0m\u001b[0mX_test\u001b[0m\u001b[1;33m.\u001b[0m\u001b[0mindex\u001b[0m\u001b[1;33m,\u001b[0m \u001b[1;34m'player_name'\u001b[0m\u001b[1;33m]\u001b[0m\u001b[1;33m\u001b[0m\u001b[1;33m\u001b[0m\u001b[0m\n\u001b[0m\u001b[0;32m     44\u001b[0m \u001b[1;33m\u001b[0m\u001b[0m\n\u001b[0;32m     45\u001b[0m \u001b[1;31m# Creazione di un DataFrame con i risultati\u001b[0m\u001b[1;33m\u001b[0m\u001b[1;33m\u001b[0m\u001b[1;33m\u001b[0m\u001b[0m\n",
      "\u001b[1;31mNameError\u001b[0m: name 'df' is not defined"
     ]
    }
   ],
   "source": [
    "import pandas as pd\n",
    "import numpy as np\n",
    "import xgboost as xgb\n",
    "from xgboost import XGBRegressor\n",
    "from sklearn.model_selection import train_test_split\n",
    "from sklearn.metrics import mean_absolute_error, mean_squared_error, mean_squared_log_error, explained_variance_score, r2_score\n",
    "\n",
    "\n",
    "# Carica il dataset\n",
    "data = pd.read_csv(\"C:/Users/Utente/Desktop/cakio/dcereijo-player-scores/data/transferspochi.csv\")\n",
    "\n",
    "# Preprocessing dei dati\n",
    "data = data.dropna()  # Rimuovi le righe con valori mancanti\n",
    "data = data[['age', 'OverallSeasonClub', 'OverallSeasonClub2', 'Overall_club_name', 'Overall_club_involved','club_name', 'player_name', 'position', 'club_involved_name', 'transfer_period', 'league_name', 'season','league_destination','fee_cleaned']]  # Seleziona le colonne rilevanti\n",
    "\n",
    "# Codifica le variabili categoriche\n",
    "data = pd.get_dummies(data)\n",
    "\n",
    "# Dividi il dataset in input e target\n",
    "X = data.drop('fee_cleaned', axis=1)\n",
    "y = data['fee_cleaned']\n",
    "\n",
    "# Dividi il dataset in set di addestramento e test\n",
    "X_train, X_test, y_train, y_test = train_test_split(X, y, test_size=0.2, random_state=42)\n",
    "\n",
    "# Crea il modello XGBoost\n",
    "model = xgb.XGBRegressor()\n",
    "\n",
    "# Addestra il modello\n",
    "model.fit(X_train, y_train)\n",
    "\n",
    "# Effettua le previsioni sul set di test\n",
    "y_pred = model.predict(X_test)\n",
    "\n",
    "# Valuta le prestazioni del modello\n",
    "r2 = r2_score(y_test, y_pred)\n",
    "mae = mean_absolute_error(y_test, y_pred)\n",
    "print('Mean Absolute Error:', mae)\n",
    "print(\"R-squared:\", r2)\n",
    "\n",
    "# Aggiungi il nome del giocatore al test set\n",
    "X_test_with_name = X_test.copy()\n",
    "X_test_with_name['Player Name'] = df.loc[X_test.index, 'player_name']\n",
    "\n",
    "# Creazione di un DataFrame con i risultati\n",
    "results_df = pd.DataFrame({'Player Name': X_test_with_name['Player Name'], 'fee_cleaned predicted': y_pred, 'fee_cleaned': y_test.values})\n",
    "results_df.reset_index(drop=True, inplace=True)\n",
    "\n",
    "# Stampa i risultati\n",
    "print(results_df)"
   ]
  },
  {
   "cell_type": "code",
   "execution_count": 6,
   "id": "c2dffd9a",
   "metadata": {
    "scrolled": false
   },
   "outputs": [
    {
     "name": "stdout",
     "output_type": "stream",
     "text": [
      "Mean Absolute Error: 4.413121493054319\n",
      "R-squared: 0.47431378510962496\n"
     ]
    },
    {
     "ename": "NameError",
     "evalue": "name 'df' is not defined",
     "output_type": "error",
     "traceback": [
      "\u001b[1;31m---------------------------------------------------------------------------\u001b[0m",
      "\u001b[1;31mNameError\u001b[0m                                 Traceback (most recent call last)",
      "\u001b[1;32m<ipython-input-6-2b2a0e36ac60>\u001b[0m in \u001b[0;36m<module>\u001b[1;34m\u001b[0m\n\u001b[0;32m     40\u001b[0m \u001b[1;31m# Aggiungi il nome del giocatore al test set\u001b[0m\u001b[1;33m\u001b[0m\u001b[1;33m\u001b[0m\u001b[1;33m\u001b[0m\u001b[0m\n\u001b[0;32m     41\u001b[0m \u001b[0mX_test_with_name\u001b[0m \u001b[1;33m=\u001b[0m \u001b[0mX_test\u001b[0m\u001b[1;33m.\u001b[0m\u001b[0mcopy\u001b[0m\u001b[1;33m(\u001b[0m\u001b[1;33m)\u001b[0m\u001b[1;33m\u001b[0m\u001b[1;33m\u001b[0m\u001b[0m\n\u001b[1;32m---> 42\u001b[1;33m \u001b[0mX_test_with_name\u001b[0m\u001b[1;33m[\u001b[0m\u001b[1;34m'Player Name'\u001b[0m\u001b[1;33m]\u001b[0m \u001b[1;33m=\u001b[0m \u001b[0mdf\u001b[0m\u001b[1;33m.\u001b[0m\u001b[0mloc\u001b[0m\u001b[1;33m[\u001b[0m\u001b[0mX_test\u001b[0m\u001b[1;33m.\u001b[0m\u001b[0mindex\u001b[0m\u001b[1;33m,\u001b[0m \u001b[1;34m'player_name'\u001b[0m\u001b[1;33m]\u001b[0m\u001b[1;33m\u001b[0m\u001b[1;33m\u001b[0m\u001b[0m\n\u001b[0m\u001b[0;32m     43\u001b[0m \u001b[1;33m\u001b[0m\u001b[0m\n\u001b[0;32m     44\u001b[0m \u001b[1;31m# Creazione di un DataFrame con i risultati\u001b[0m\u001b[1;33m\u001b[0m\u001b[1;33m\u001b[0m\u001b[1;33m\u001b[0m\u001b[0m\n",
      "\u001b[1;31mNameError\u001b[0m: name 'df' is not defined"
     ]
    }
   ],
   "source": [
    "import pandas as pd\n",
    "import numpy as np\n",
    "from xgboost import XGBRegressor\n",
    "from sklearn.model_selection import train_test_split\n",
    "from sklearn.metrics import mean_absolute_error\n",
    "\n",
    "# Carica il dataset\n",
    "data = pd.read_csv(\"C:/Users/Utente/Desktop/cakio/dcereijo-player-scores/data/transfers3.csv\")\n",
    "\n",
    "# Preprocessing dei dati\n",
    "data = data.dropna()  # Rimuovi le righe con valori mancanti\n",
    "data = data[['age', 'OverallSeasonClub', 'OverallSeasonClub2', 'Overall_club_name', 'Overall_club_involved','club_name', 'player_name', 'position', 'club_involved_name', 'transfer_period', 'league_name', 'season','league_destination','fee_cleaned']]  # Seleziona le colonne rilevanti\n",
    "\n",
    "# Codifica le variabili categoriche\n",
    "data = pd.get_dummies(data)\n",
    "\n",
    "# Dividi il dataset in input e target\n",
    "X = data.drop('fee_cleaned', axis=1)\n",
    "y = data['fee_cleaned']\n",
    "\n",
    "# Dividi il dataset in set di addestramento e test\n",
    "X_train, X_test, y_train, y_test = train_test_split(X, y, test_size=0.2, random_state=42)\n",
    "\n",
    "# Crea il modello XGBoost con i parametri ottimali precedentemente rilevati\n",
    "xgb_model = xgb.XGBRegressor(learning_rate=0.1, max_depth=5, n_estimators=200, subsample=0.8,\n",
    "                             colsample_bytree=1.0, reg_alpha=0, reg_lambda=0.1)\n",
    "\n",
    "# Addestra il modello\n",
    "model.fit(X_train, y_train)\n",
    "\n",
    "# Effettua le previsioni sul set di test\n",
    "y_pred = model.predict(X_test)\n",
    "\n",
    "# Valuta le prestazioni del modello\n",
    "r2 = r2_score(y_test, y_pred)\n",
    "mae = mean_absolute_error(y_test, y_pred)\n",
    "print('Mean Absolute Error:', mae)\n",
    "print(\"R-squared:\", r2)\n",
    "\n",
    "# Aggiungi il nome del giocatore al test set\n",
    "X_test_with_name = X_test.copy()\n",
    "X_test_with_name['Player Name'] = df.loc[X_test.index, 'player_name']\n",
    "\n",
    "# Creazione di un DataFrame con i risultati\n",
    "results_df = pd.DataFrame({'Player Name': X_test_with_name['Player Name'], 'fee_cleaned predicted': y_pred, 'fee_cleaned': y_test.values})\n",
    "results_df.reset_index(drop=True, inplace=True)\n",
    "\n",
    "# Stampa i risultati\n",
    "print(results_df)"
   ]
  },
  {
   "cell_type": "code",
   "execution_count": 8,
   "id": "63a2325c",
   "metadata": {},
   "outputs": [
    {
     "name": "stderr",
     "output_type": "stream",
     "text": [
      "C:\\Users\\Utente\\anaconda4\\lib\\site-packages\\sklearn\\utils\\deprecation.py:87: FutureWarning: Function get_feature_names is deprecated; get_feature_names is deprecated in 1.0 and will be removed in 1.2. Please use get_feature_names_out instead.\n",
      "  warnings.warn(msg, category=FutureWarning)\n"
     ]
    },
    {
     "name": "stdout",
     "output_type": "stream",
     "text": [
      "Mean Squared Error: 82.42889554703723\n",
      "Mean Absolute Error: 4.611144588183257\n",
      "Mean Squared Log Error: 0.5417352263331136\n",
      "Explained Variance Score: 0.5024149373367757\n",
      "R-squared: 0.500567253038305\n",
      "      True Value  Prediction\n",
      "6851        0.30    1.222112\n",
      "6724        0.50   12.167343\n",
      "245         1.50    3.299914\n",
      "1880        7.00   11.313368\n",
      "6799       11.80    6.596943\n",
      "...          ...         ...\n",
      "2574        5.20    8.927545\n",
      "3128       10.00    6.213492\n",
      "2687       18.00   12.610465\n",
      "5260        8.00    5.100535\n",
      "1323        0.16    2.023146\n",
      "\n",
      "[1403 rows x 2 columns]\n"
     ]
    }
   ],
   "source": [
    "import pandas as pd\n",
    "from sklearn.model_selection import train_test_split\n",
    "from sklearn.preprocessing import OneHotEncoder\n",
    "import xgboost as xgb\n",
    "from sklearn.metrics import mean_absolute_error, mean_squared_error, mean_squared_log_error, explained_variance_score, r2_score\n",
    "\n",
    "# Carica il dataset dal tuo CSV\n",
    "df = pd.read_csv(\"C:/Users/Utente/Desktop/cakio/dcereijo-player-scores/data/transfers3.csv\")\n",
    "\n",
    "# Seleziona le feature che desideri utilizzare per la regressione\n",
    "features = ['age', 'OverallSeasonClub', 'OverallSeasonClub2', 'Overall_club_name', 'Overall_club_involved']\n",
    "\n",
    "# Seleziona la variabile target\n",
    "target = 'fee_cleaned'\n",
    "\n",
    "# Dividi il dataset in caratteristiche e variabile target\n",
    "X = df[features]\n",
    "y = df[target]\n",
    "\n",
    "# Codifica le caratteristiche categoriche\n",
    "cat_features = ['club_name', 'player_name', 'position', 'club_involved_name', 'transfer_period', 'league_name', 'season','league_destination']\n",
    "encoder = OneHotEncoder(sparse=False, drop='first')\n",
    "X_encoded = pd.DataFrame(encoder.fit_transform(df[cat_features]))\n",
    "X_encoded.columns = encoder.get_feature_names(cat_features)\n",
    "\n",
    "# Concatena le caratteristiche codificate con quelle numeriche\n",
    "X = pd.concat([X, X_encoded], axis=1)\n",
    "\n",
    "\n",
    "\n",
    "# Dividi i dati in set di addestramento e di test\n",
    "X_train, X_test, y_train, y_test = train_test_split(X, y, test_size=0.2, random_state=42)\n",
    "\n",
    "\n",
    "# Crea il modello XGBoost con i parametri ottimali precedentemente rilevati\n",
    "xgb_model = xgb.XGBRegressor(learning_rate=0.1, max_depth=5, n_estimators=200, subsample=0.8,\n",
    "                             colsample_bytree=1.0, reg_alpha=0, reg_lambda=0.1)\n",
    "\n",
    "# Addestra il modello\n",
    "xgb_model.fit(X_train, y_train)\n",
    "\n",
    "# Fai le previsioni sul set di test utilizzando il modello addestrato\n",
    "y_pred = xgb_model.predict(X_test)\n",
    "\n",
    "import numpy as np\n",
    "\n",
    "# Applica una trasformazione logaritmica ai valori target\n",
    "y_test = np.abs(y_test)\n",
    "y_pred = np.abs(y_pred)\n",
    "\n",
    "mse = mean_squared_error(y_test, y_pred)\n",
    "mae = mean_absolute_error(y_test, y_pred)\n",
    "msle = mean_squared_log_error(y_test, y_pred)\n",
    "evs = explained_variance_score(y_test, y_pred)\n",
    "r2 = r2_score(y_test, y_pred)\n",
    "\n",
    "print(\"Mean Squared Error:\", mse)\n",
    "print(\"Mean Absolute Error:\", mae)\n",
    "print(\"Mean Squared Log Error:\", msle)\n",
    "print(\"Explained Variance Score:\", evs)\n",
    "print(\"R-squared:\", r2)\n",
    "\n",
    "results = pd.DataFrame({'True Value': y_test, 'Prediction': y_pred})\n",
    "print(results)"
   ]
  },
  {
   "cell_type": "code",
   "execution_count": null,
   "id": "cbcaa64d",
   "metadata": {},
   "outputs": [],
   "source": []
  }
 ],
 "metadata": {
  "kernelspec": {
   "display_name": "Python 3",
   "language": "python",
   "name": "python3"
  },
  "language_info": {
   "codemirror_mode": {
    "name": "ipython",
    "version": 3
   },
   "file_extension": ".py",
   "mimetype": "text/x-python",
   "name": "python",
   "nbconvert_exporter": "python",
   "pygments_lexer": "ipython3",
   "version": "3.8.8"
  }
 },
 "nbformat": 4,
 "nbformat_minor": 5
}
