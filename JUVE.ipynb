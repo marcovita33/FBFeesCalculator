{
 "cells": [
  {
   "cell_type": "code",
   "execution_count": 1,
   "id": "1a5c8eb8",
   "metadata": {},
   "outputs": [
    {
     "name": "stderr",
     "output_type": "stream",
     "text": [
      "<ipython-input-1-1c041f812226>:29: SettingWithCopyWarning: \n",
      "A value is trying to be set on a copy of a slice from a DataFrame.\n",
      "Try using .loc[row_indexer,col_indexer] = value instead\n",
      "\n",
      "See the caveats in the documentation: https://pandas.pydata.org/pandas-docs/stable/user_guide/indexing.html#returning-a-view-versus-a-copy\n",
      "  X_train[column] = label_encoders[column].fit_transform(X_train[column])\n",
      "<ipython-input-1-1c041f812226>:30: SettingWithCopyWarning: \n",
      "A value is trying to be set on a copy of a slice from a DataFrame.\n",
      "Try using .loc[row_indexer,col_indexer] = value instead\n",
      "\n",
      "See the caveats in the documentation: https://pandas.pydata.org/pandas-docs/stable/user_guide/indexing.html#returning-a-view-versus-a-copy\n",
      "  X_test[column] = label_encoders[column].fit_transform(X_test[column])\n"
     ]
    },
    {
     "name": "stdout",
     "output_type": "stream",
     "text": [
      "Mean Squared Error: 312.5426936014286\n",
      "R^2 Score: 0.5173426575045997\n"
     ]
    },
    {
     "data": {
      "image/png": "[encoded data removed]",
      "text/plain": [
       "<Figure size 432x288 with 1 Axes>"
      ]
     },
     "metadata": {
      "needs_background": "light"
     },
     "output_type": "display_data"
    },
    {
     "data": {
      "image/png": "[encoded data removed]",
      "text/plain": [
       "<Figure size 432x288 with 1 Axes>"
      ]
     },
     "metadata": {
      "needs_background": "light"
     },
     "output_type": "display_data"
    }
   ],
   "source": [
    "import numpy as np\n",
    "import matplotlib.pyplot as plt\n",
    "import seaborn as sns\n",
    "from sklearn.model_selection import train_test_split\n",
    "from sklearn.preprocessing import LabelEncoder\n",
    "from sklearn.ensemble import RandomForestRegressor\n",
    "from sklearn.metrics import mean_squared_error, r2_score\n",
    "import pandas as pd\n",
    "# Load the dataset from the CSV files\n",
    "train_data = pd.read_csv(\"C:/Users/Utente/Desktop/cakio/dcereijo-player-scores/data/Rest.csv\")\n",
    "test_data = pd.read_csv(\"C:/Users/Utente/Desktop/cakio/dcereijo-player-scores/data/Juve.csv\")\n",
    "\n",
    "# Select the columns to be used as features (independent variables)\n",
    "features = ['Overall_club_name', 'Overall_club_involved', 'league_destination', 'age', 'club_name', 'player_name', 'position', 'club_involved_name', 'transfer_period', 'league_name', 'season', 'OverallSeasonClub', 'OverallSeasonClub2']\n",
    "\n",
    "X_train = train_data[features]\n",
    "X_test = test_data[features]\n",
    "\n",
    "# Select the target variable (dependent variable)\n",
    "y_train = train_data['fee_cleaned']\n",
    "y_test = test_data['fee_cleaned']\n",
    "\n",
    "# Create a dictionary to store LabelEncoder objects\n",
    "label_encoders = {}\n",
    "\n",
    "# Encode the categorical variables\n",
    "for column in X_train.select_dtypes(include=['object']):\n",
    "    label_encoders[column] = LabelEncoder()\n",
    "    X_train[column] = label_encoders[column].fit_transform(X_train[column])\n",
    "    X_test[column] = label_encoders[column].fit_transform(X_test[column])\n",
    "\n",
    "# Create and train the Random Forest model\n",
    "model = RandomForestRegressor(random_state=42)\n",
    "model.fit(X_train, y_train)\n",
    "\n",
    "# Make predictions on the test set\n",
    "y_pred = model.predict(X_test)\n",
    "\n",
    "# Evaluate the model's performance\n",
    "mse = mean_squared_error(y_test, y_pred)\n",
    "r2 = r2_score(y_test, y_pred)\n",
    "print('Mean Squared Error:', mse)\n",
    "print('R^2 Score:', r2)\n",
    "\n",
    "# Plot predicted values against real values\n",
    "plt.scatter(y_test, y_pred)\n",
    "plt.xlabel('Valore Reale')\n",
    "plt.ylabel('Valore Predetto')\n",
    "plt.title('Comparison of Real Values and Predicted Values')\n",
    "plt.show()\n",
    "\n",
    "# Plot residuals\n",
    "residuals = y_test - y_pred\n",
    "plt.hist(residuals, bins=20)\n",
    "plt.xlabel('Residuals')\n",
    "plt.ylabel('Frequency')\n",
    "plt.title('Distribution of Residuals')\n",
    "plt.show()\n",
    "\n",
    "# Create a table with the test data details, real value, and predicted value\n",
    "results = X_test.copy()\n",
    "results['Valore Reale'] = y_test\n",
    "results['Valore Predetto'] = y_pred\n",
    "results = results[['club_name', 'age', 'player_name', 'position', 'club_involved_name', 'season', 'Valore Reale', 'Valore Predetto']]\n",
    "\n",
    "\n"
   ]
  },
  {
   "cell_type": "code",
   "execution_count": 2,
   "id": "55b1c39a",
   "metadata": {},
   "outputs": [
    {
     "name": "stdout",
     "output_type": "stream",
     "text": [
      "   club_name   age  player_name  position  club_involved_name  season  \\\n",
      "0          0  30.0            5         0                   2    2020   \n",
      "1          3  25.0            3         3                   2    2019   \n",
      "2          2  28.0            1         3                   3    2019   \n",
      "3          2  24.0            0         2                   0    2020   \n",
      "4          1  20.0            4         0                   2    2020   \n",
      "5          1  19.0            2         1                   2    2020   \n",
      "6          2  19.0            6         2                   1    2020   \n",
      "\n",
      "   Valore Reale  Valore Predetto  Differenza  \n",
      "0          60.0          75.7765     15.7765  \n",
      "1          65.0          46.0012    -18.9988  \n",
      "2          37.0          40.9225      3.9225  \n",
      "3          76.0          36.9879    -39.0121  \n",
      "4          10.0          13.3431      3.3431  \n",
      "5           8.0          12.1650      4.1650  \n",
      "6          23.3          19.8225     -3.4775  \n"
     ]
    }
   ],
   "source": [
    "# Decode categorical variables in the results table\n",
    "categorical_columns = ['club_name', 'player_name', 'position', 'club_involved_name']\n",
    "\n",
    "for column in categorical_columns:\n",
    "    decoded_values = label_encoders[column].inverse_transform(results[column])\n",
    "    results[column]\n",
    "# Calculate the difference column between predicted value and real value\n",
    "results['Differenza'] = results['Valore Predetto'] - results['Valore Reale']\n",
    "print(results)\n",
    "results.to_csv('JUVE3.csv', index=False)"
   ]
  },
  {
   "cell_type": "code",
   "execution_count": null,
   "id": "229010e5",
   "metadata": {},
   "outputs": [],
   "source": []
  },
  {
   "cell_type": "code",
   "execution_count": 5,
   "id": "1757f7ce",
   "metadata": {},
   "outputs": [
    {
     "name": "stdout",
     "output_type": "stream",
     "text": [
      "Mean Squared Error: 897.4947378999748\n",
      "R^2 Score: -0.3859944064180407\n"
     ]
    },
    {
     "name": "stderr",
     "output_type": "stream",
     "text": [
      "<ipython-input-5-2fc7a6473046>:29: SettingWithCopyWarning: \n",
      "A value is trying to be set on a copy of a slice from a DataFrame.\n",
      "Try using .loc[row_indexer,col_indexer] = value instead\n",
      "\n",
      "See the caveats in the documentation: https://pandas.pydata.org/pandas-docs/stable/user_guide/indexing.html#returning-a-view-versus-a-copy\n",
      "  X_train[column] = label_encoders[column].fit_transform(X_train[column])\n",
      "<ipython-input-5-2fc7a6473046>:30: SettingWithCopyWarning: \n",
      "A value is trying to be set on a copy of a slice from a DataFrame.\n",
      "Try using .loc[row_indexer,col_indexer] = value instead\n",
      "\n",
      "See the caveats in the documentation: https://pandas.pydata.org/pandas-docs/stable/user_guide/indexing.html#returning-a-view-versus-a-copy\n",
      "  X_test[column] = label_encoders[column].fit_transform(X_test[column])\n"
     ]
    },
    {
     "data": {
      "image/png": "[encoded data removed]",
      "text/plain": [
       "<Figure size 432x288 with 1 Axes>"
      ]
     },
     "metadata": {
      "needs_background": "light"
     },
     "output_type": "display_data"
    },
    {
     "data": {
      "image/png": "[encoded data removed]",
      "text/plain": [
       "<Figure size 432x288 with 1 Axes>"
      ]
     },
     "metadata": {
      "needs_background": "light"
     },
     "output_type": "display_data"
    },
    {
     "name": "stdout",
     "output_type": "stream",
     "text": [
      "         club_name   age       player_name            position  \\\n",
      "0     FC Barcelona  30.0    Miralem Pjanic    Central Midfield   \n",
      "1  Manchester City  25.0      João Cancelo          Right-Back   \n",
      "2      Juventus FC  28.0            Danilo          Right-Back   \n",
      "3      Juventus FC  24.0            Arthur  Defensive Midfield   \n",
      "4        Genoa CFC  20.0  Manolo Portanova    Central Midfield   \n",
      "5        Genoa CFC  19.0     Elia Petrelli      Centre-Forward   \n",
      "6      Juventus FC  19.0    Nicolò Rovella  Defensive Midfield   \n",
      "\n",
      "  club_involved_name  season  Real Value  Predicted Value  Difference  \n",
      "0           Juventus    2020        60.0        17.735252  -42.264748  \n",
      "1           Juventus    2019        65.0        35.664714  -29.335286  \n",
      "2    Manchester City    2019        37.0        22.744926  -14.255074  \n",
      "3          Barcelona    2020        76.0        18.286220  -57.713780  \n",
      "4           Juventus    2020        10.0         7.889356   -2.110644  \n",
      "5           Juventus    2020         8.0         5.033938   -2.966062  \n",
      "6              Genoa    2020        23.3        13.905569   -9.394431  \n"
     ]
    }
   ],
   "source": [
    "import numpy as np\n",
    "import matplotlib.pyplot as plt\n",
    "import seaborn as sns\n",
    "from sklearn.model_selection import train_test_split\n",
    "from sklearn.linear_model import LinearRegression\n",
    "from sklearn.preprocessing import LabelEncoder\n",
    "from sklearn.metrics import mean_squared_error, r2_score\n",
    "import pandas as pd\n",
    "# Load the dataset from the CSV files\n",
    "train_data = pd.read_csv(\"C:/Users/Utente/Desktop/cakio/dcereijo-player-scores/data/Rest.csv\")\n",
    "test_data = pd.read_csv(\"C:/Users/Utente/Desktop/cakio/dcereijo-player-scores/data/Juve.csv\")\n",
    "\n",
    "# Select the columns to be used as features (independent variables)\n",
    "features = ['Overall_club_name', 'Overall_club_involved', 'league_destination', 'age', 'club_name', 'player_name', 'position', 'club_involved_name', 'transfer_period', 'league_name', 'season', 'OverallSeasonClub', 'OverallSeasonClub2']\n",
    "\n",
    "X_train = train_data[features]\n",
    "X_test = test_data[features]\n",
    "\n",
    "# Select the target variable (dependent variable)\n",
    "y_train = train_data['fee_cleaned']\n",
    "y_test = test_data['fee_cleaned']\n",
    "\n",
    "# Create a dictionary to store LabelEncoder objects\n",
    "label_encoders = {}\n",
    "\n",
    "# Encode the categorical variables\n",
    "for column in X_train.select_dtypes(include=['object']):\n",
    "    label_encoders[column] = LabelEncoder()\n",
    "    X_train[column] = label_encoders[column].fit_transform(X_train[column])\n",
    "    X_test[column] = label_encoders[column].fit_transform(X_test[column])\n",
    "\n",
    "# Create and train the linear regression model\n",
    "model = LinearRegression()\n",
    "model.fit(X_train, y_train)\n",
    "\n",
    "# Make predictions on the test set\n",
    "y_pred = model.predict(X_test)\n",
    "\n",
    "# Evaluate the model's performance\n",
    "mse = mean_squared_error(y_test, y_pred)\n",
    "r2 = r2_score(y_test, y_pred)\n",
    "print('Mean Squared Error:', mse)\n",
    "print('R^2 Score:', r2)\n",
    "\n",
    "# Plot predicted values against real values\n",
    "plt.scatter(y_test, y_pred)\n",
    "plt.xlabel('Real Values')\n",
    "plt.ylabel('Predicted Values')\n",
    "plt.title('Comparison of Real Values and Predicted Values')\n",
    "plt.show()\n",
    "\n",
    "# Plot residuals\n",
    "residuals = y_test - y_pred\n",
    "plt.hist(residuals, bins=20)\n",
    "plt.xlabel('Residuals')\n",
    "plt.ylabel('Frequency')\n",
    "plt.title('Distribution of Residuals')\n",
    "plt.show()\n",
    "\n",
    "# Create a table with the test data details, real value, and predicted value\n",
    "results = X_test.copy()\n",
    "results['Real Value'] = y_test\n",
    "results['Predicted Value'] = y_pred\n",
    "results = results[['club_name', 'age', 'player_name', 'position', 'club_involved_name', 'season', 'Real Value', 'Predicted Value']]\n",
    "\n",
    "# Decode categorical variables in the results table\n",
    "categorical_columns = ['club_name', 'player_name', 'position', 'club_involved_name']\n",
    "\n",
    "for column in categorical_columns:\n",
    "    decoded_values = label_encoders[column].inverse_transform(results[column])\n",
    "    results[column] = decoded_values\n",
    "\n",
    "\n",
    "# Calculate the difference column between predicted value and real value\n",
    "results['Difference'] = results['Predicted Value'] - results['Real Value']\n",
    "print(results)\n",
    "\n"
   ]
  },
  {
   "cell_type": "code",
   "execution_count": 6,
   "id": "1a305fcf",
   "metadata": {},
   "outputs": [
    {
     "name": "stderr",
     "output_type": "stream",
     "text": [
      "<ipython-input-6-bc8f4b33c9c0>:29: SettingWithCopyWarning: \n",
      "A value is trying to be set on a copy of a slice from a DataFrame.\n",
      "Try using .loc[row_indexer,col_indexer] = value instead\n",
      "\n",
      "See the caveats in the documentation: https://pandas.pydata.org/pandas-docs/stable/user_guide/indexing.html#returning-a-view-versus-a-copy\n",
      "  X_train[column] = label_encoders[column].fit_transform(X_train[column])\n",
      "<ipython-input-6-bc8f4b33c9c0>:30: SettingWithCopyWarning: \n",
      "A value is trying to be set on a copy of a slice from a DataFrame.\n",
      "Try using .loc[row_indexer,col_indexer] = value instead\n",
      "\n",
      "See the caveats in the documentation: https://pandas.pydata.org/pandas-docs/stable/user_guide/indexing.html#returning-a-view-versus-a-copy\n",
      "  X_test[column] = label_encoders[column].fit_transform(X_test[column])\n"
     ]
    },
    {
     "name": "stdout",
     "output_type": "stream",
     "text": [
      "Mean Squared Error: 799.8478826106638\n",
      "R^2 Score: -0.2351990986349881\n"
     ]
    },
    {
     "data": {
      "image/png": "[encoded data removed]",
      "text/plain": [
       "<Figure size 432x288 with 1 Axes>"
      ]
     },
     "metadata": {
      "needs_background": "light"
     },
     "output_type": "display_data"
    },
    {
     "data": {
      "image/png": "[encoded data removed]",
      "text/plain": [
       "<Figure size 432x288 with 1 Axes>"
      ]
     },
     "metadata": {
      "needs_background": "light"
     },
     "output_type": "display_data"
    },
    {
     "name": "stdout",
     "output_type": "stream",
     "text": [
      "         club_name   age       player_name            position  \\\n",
      "0     FC Barcelona  30.0    Miralem Pjanic    Central Midfield   \n",
      "1  Manchester City  25.0      João Cancelo          Right-Back   \n",
      "2      Juventus FC  28.0            Danilo          Right-Back   \n",
      "3      Juventus FC  24.0            Arthur  Defensive Midfield   \n",
      "4        Genoa CFC  20.0  Manolo Portanova    Central Midfield   \n",
      "5        Genoa CFC  19.0     Elia Petrelli      Centre-Forward   \n",
      "6      Juventus FC  19.0    Nicolò Rovella  Defensive Midfield   \n",
      "\n",
      "  club_involved_name  season  Real Value  Predicted Value  Difference  \n",
      "0           Juventus    2020        60.0        22.378179  -37.621821  \n",
      "1           Juventus    2019        65.0        31.980481  -33.019519  \n",
      "2    Manchester City    2019        37.0        25.223131  -11.776869  \n",
      "3          Barcelona    2020        76.0        21.934259  -54.065741  \n",
      "4           Juventus    2020        10.0        10.821814    0.821814  \n",
      "5           Juventus    2020         8.0        12.602253    4.602253  \n",
      "6              Genoa    2020        23.3        20.203218   -3.096782  \n"
     ]
    }
   ],
   "source": [
    "import numpy as np\n",
    "import matplotlib.pyplot as plt\n",
    "import seaborn as sns\n",
    "from sklearn.model_selection import train_test_split\n",
    "from sklearn.linear_model import LinearRegression\n",
    "from sklearn.preprocessing import PolynomialFeatures\n",
    "from sklearn.metrics import mean_squared_error, r2_score\n",
    "\n",
    "# Load the dataset from the CSV files\n",
    "train_data = pd.read_csv(\"C:/Users/Utente/Desktop/cakio/dcereijo-player-scores/data/Rest.csv\")\n",
    "test_data = pd.read_csv(\"C:/Users/Utente/Desktop/cakio/dcereijo-player-scores/data/Juve.csv\")\n",
    "\n",
    "# Select the columns to be used as features (independent variables)\n",
    "features = ['Overall_club_name', 'Overall_club_involved', 'league_destination', 'age', 'club_name', 'player_name', 'position', 'club_involved_name', 'transfer_period', 'league_name', 'season', 'OverallSeasonClub', 'OverallSeasonClub2']\n",
    "\n",
    "X_train = train_data[features]\n",
    "X_test = test_data[features]\n",
    "\n",
    "# Select the target variable (dependent variable)\n",
    "y_train = train_data['fee_cleaned']\n",
    "y_test = test_data['fee_cleaned']\n",
    "\n",
    "# Create a dictionary to store LabelEncoder objects\n",
    "label_encoders = {}\n",
    "\n",
    "# Encode the categorical variables\n",
    "for column in X_train.select_dtypes(include=['object']):\n",
    "    label_encoders[column] = LabelEncoder()\n",
    "    X_train[column] = label_encoders[column].fit_transform(X_train[column])\n",
    "    X_test[column] = label_encoders[column].fit_transform(X_test[column])\n",
    "\n",
    "# Create polynomial features\n",
    "degree = 2  # Set the degree of the polynomial\n",
    "poly_features = PolynomialFeatures(degree=degree)\n",
    "X_train_poly = poly_features.fit_transform(X_train)\n",
    "X_test_poly = poly_features.transform(X_test)\n",
    "\n",
    "# Create and train the polynomial regression model\n",
    "model = LinearRegression()\n",
    "model.fit(X_train_poly, y_train)\n",
    "\n",
    "# Make predictions on the test set\n",
    "y_pred = model.predict(X_test_poly)\n",
    "\n",
    "# Evaluate the model's performance\n",
    "mse = mean_squared_error(y_test, y_pred)\n",
    "r2 = r2_score(y_test, y_pred)\n",
    "print('Mean Squared Error:', mse)\n",
    "print('R^2 Score:', r2)\n",
    "\n",
    "# Plot predicted values against real values\n",
    "plt.scatter(y_test, y_pred)\n",
    "plt.xlabel('Real Values')\n",
    "plt.ylabel('Predicted Values')\n",
    "plt.title('Comparison of Real Values and Predicted Values')\n",
    "plt.show()\n",
    "\n",
    "# Plot residuals\n",
    "residuals = y_test - y_pred\n",
    "plt.hist(residuals, bins=20)\n",
    "plt.xlabel('Residuals')\n",
    "plt.ylabel('Frequency')\n",
    "plt.title('Distribution of Residuals')\n",
    "plt.show()\n",
    "\n",
    "# Create a table with the test data details, real value, and predicted value\n",
    "results = X_test.copy()\n",
    "results['Real Value'] = y_test\n",
    "results['Predicted Value'] = y_pred\n",
    "results = results[['club_name', 'age', 'player_name', 'position', 'club_involved_name', 'season', 'Real Value', 'Predicted Value']]\n",
    "\n",
    "# Decode categorical variables in the results table\n",
    "categorical_columns = ['club_name', 'player_name', 'position', 'club_involved_name']\n",
    "\n",
    "for column in categorical_columns:\n",
    "    decoded_values = label_encoders[column].inverse_transform(results[column])\n",
    "    results[column] = decoded_values\n",
    "\n",
    "\n",
    "# Calculate the difference column between predicted value and real value\n",
    "results['Difference'] = results['Predicted Value'] - results['Real Value']\n",
    "print(results)\n",
    "\n"
   ]
  },
  {
   "cell_type": "code",
   "execution_count": 7,
   "id": "689afda2",
   "metadata": {},
   "outputs": [
    {
     "name": "stdout",
     "output_type": "stream",
     "text": [
      "Mean Squared Error: 897.6859958386103\n",
      "R^2 Score: -0.3862897646212011\n"
     ]
    },
    {
     "name": "stderr",
     "output_type": "stream",
     "text": [
      "<ipython-input-7-30178e1a75c0>:29: SettingWithCopyWarning: \n",
      "A value is trying to be set on a copy of a slice from a DataFrame.\n",
      "Try using .loc[row_indexer,col_indexer] = value instead\n",
      "\n",
      "See the caveats in the documentation: https://pandas.pydata.org/pandas-docs/stable/user_guide/indexing.html#returning-a-view-versus-a-copy\n",
      "  X_train[column] = label_encoders[column].fit_transform(X_train[column])\n",
      "<ipython-input-7-30178e1a75c0>:30: SettingWithCopyWarning: \n",
      "A value is trying to be set on a copy of a slice from a DataFrame.\n",
      "Try using .loc[row_indexer,col_indexer] = value instead\n",
      "\n",
      "See the caveats in the documentation: https://pandas.pydata.org/pandas-docs/stable/user_guide/indexing.html#returning-a-view-versus-a-copy\n",
      "  X_test[column] = label_encoders[column].fit_transform(X_test[column])\n"
     ]
    },
    {
     "data": {
      "image/png": "[encoded data removed]",
      "text/plain": [
       "<Figure size 432x288 with 1 Axes>"
      ]
     },
     "metadata": {
      "needs_background": "light"
     },
     "output_type": "display_data"
    },
    {
     "data": {
      "image/png": "[encoded data removed]",
      "text/plain": [
       "<Figure size 432x288 with 1 Axes>"
      ]
     },
     "metadata": {
      "needs_background": "light"
     },
     "output_type": "display_data"
    },
    {
     "name": "stdout",
     "output_type": "stream",
     "text": [
      "         club_name   age       player_name            position  \\\n",
      "0     FC Barcelona  30.0    Miralem Pjanic    Central Midfield   \n",
      "1  Manchester City  25.0      João Cancelo          Right-Back   \n",
      "2      Juventus FC  28.0            Danilo          Right-Back   \n",
      "3      Juventus FC  24.0            Arthur  Defensive Midfield   \n",
      "4        Genoa CFC  20.0  Manolo Portanova    Central Midfield   \n",
      "5        Genoa CFC  19.0     Elia Petrelli      Centre-Forward   \n",
      "6      Juventus FC  19.0    Nicolò Rovella  Defensive Midfield   \n",
      "\n",
      "  club_involved_name  season  Real Value  Predicted Value  \n",
      "0           Juventus    2020        60.0        17.827896  \n",
      "1           Juventus    2019        65.0        35.380231  \n",
      "2    Manchester City    2019        37.0        22.613638  \n",
      "3          Barcelona    2020        76.0        18.374692  \n",
      "4           Juventus    2020        10.0         7.949823  \n",
      "5           Juventus    2020         8.0         5.045687  \n",
      "6              Genoa    2020        23.3        13.950663  \n"
     ]
    }
   ],
   "source": [
    "import numpy as np\n",
    "import matplotlib.pyplot as plt\n",
    "import seaborn as sns\n",
    "from sklearn.model_selection import train_test_split\n",
    "from sklearn.preprocessing import LabelEncoder\n",
    "from sklearn.linear_model import BayesianRidge\n",
    "from sklearn.metrics import mean_squared_error, r2_score\n",
    "\n",
    "# Load the dataset from the CSV files\n",
    "train_data = pd.read_csv(\"C:/Users/Utente/Desktop/cakio/dcereijo-player-scores/data/Rest.csv\")\n",
    "test_data = pd.read_csv(\"C:/Users/Utente/Desktop/cakio/dcereijo-player-scores/data/Juve.csv\")\n",
    "\n",
    "# Select the columns to be used as features (independent variables)\n",
    "features = ['Overall_club_name', 'Overall_club_involved', 'league_destination', 'age', 'club_name', 'player_name', 'position', 'club_involved_name', 'transfer_period', 'league_name', 'season', 'OverallSeasonClub', 'OverallSeasonClub2']\n",
    "\n",
    "X_train = train_data[features]\n",
    "X_test = test_data[features]\n",
    "\n",
    "# Select the target variable (dependent variable)\n",
    "y_train = train_data['fee_cleaned']\n",
    "y_test = test_data['fee_cleaned']\n",
    "\n",
    "# Create a dictionary to store LabelEncoder objects\n",
    "label_encoders = {}\n",
    "\n",
    "# Encode the categorical variables\n",
    "for column in X_train.select_dtypes(include=['object']):\n",
    "    label_encoders[column] = LabelEncoder()\n",
    "    X_train[column] = label_encoders[column].fit_transform(X_train[column])\n",
    "    X_test[column] = label_encoders[column].fit_transform(X_test[column])\n",
    "\n",
    "# Create and train the Bayesian Ridge model\n",
    "model = BayesianRidge()\n",
    "model.fit(X_train, y_train)\n",
    "\n",
    "# Make predictions on the test set\n",
    "y_pred = model.predict(X_test)\n",
    "\n",
    "# Evaluate the model's performance\n",
    "mse = mean_squared_error(y_test, y_pred)\n",
    "r2 = r2_score(y_test, y_pred)\n",
    "print('Mean Squared Error:', mse)\n",
    "print('R^2 Score:', r2)\n",
    "\n",
    "# Plot predicted values against real values\n",
    "plt.scatter(y_test, y_pred)\n",
    "plt.xlabel('Real Values')\n",
    "plt.ylabel('Predicted Values')\n",
    "plt.title('Comparison of Real Values and Predicted Values')\n",
    "plt.show()\n",
    "\n",
    "# Plot residuals\n",
    "residuals = y_test - y_pred\n",
    "plt.hist(residuals, bins=20)\n",
    "plt.xlabel('Residuals')\n",
    "plt.ylabel('Frequency')\n",
    "plt.title('Distribution of Residuals')\n",
    "plt.show()\n",
    "\n",
    "# Create a table with the test data details, real value, and predicted value\n",
    "results = X_test.copy()\n",
    "results['Real Value'] = y_test\n",
    "results['Predicted Value'] = y_pred\n",
    "results = results[['club_name', 'age', 'player_name', 'position', 'club_involved_name', 'season', 'Real Value', 'Predicted Value']]\n",
    "\n",
    "# Decode categorical variables in the results table\n",
    "categorical_columns = ['club_name', 'player_name', 'position', 'club_involved_name']\n",
    "\n",
    "for column in categorical_columns:\n",
    "    decoded_values = label_encoders[column].inverse_transform(results[column])\n",
    "    results[column] = decoded_values\n",
    "\n",
    "print(results)\n"
   ]
  },
  {
   "cell_type": "code",
   "execution_count": 20,
   "id": "0c73cf97",
   "metadata": {},
   "outputs": [
    {
     "name": "stderr",
     "output_type": "stream",
     "text": [
      "C:\\Users\\Utente\\anaconda4\\lib\\site-packages\\sklearn\\utils\\validation.py:1688: FutureWarning: Feature names only support names that are all strings. Got feature names with dtypes: ['int', 'str']. An error will be raised in 1.2.\n",
      "  warnings.warn(\n",
      "C:\\Users\\Utente\\anaconda4\\lib\\site-packages\\sklearn\\utils\\validation.py:1688: FutureWarning: Feature names only support names that are all strings. Got feature names with dtypes: ['int', 'str']. An error will be raised in 1.2.\n",
      "  warnings.warn(\n",
      "C:\\Users\\Utente\\anaconda4\\lib\\site-packages\\sklearn\\utils\\validation.py:1688: FutureWarning: Feature names only support names that are all strings. Got feature names with dtypes: ['int', 'str']. An error will be raised in 1.2.\n",
      "  warnings.warn(\n"
     ]
    },
    {
     "name": "stdout",
     "output_type": "stream",
     "text": [
      "Mean Squared Error: 560.3160583322832\n",
      "R^2 Score: 0.13470810481643147\n"
     ]
    },
    {
     "data": {
      "image/png": "[encoded data removed]",
      "text/plain": [
       "<Figure size 432x288 with 1 Axes>"
      ]
     },
     "metadata": {
      "needs_background": "light"
     },
     "output_type": "display_data"
    },
    {
     "data": {
      "image/png": "[encoded data removed]",
      "text/plain": [
       "<Figure size 432x288 with 1 Axes>"
      ]
     },
     "metadata": {
      "needs_background": "light"
     },
     "output_type": "display_data"
    },
    {
     "name": "stdout",
     "output_type": "stream",
     "text": [
      "         club_name   age       player_name            position  \\\n",
      "0     FC Barcelona  30.0    Miralem Pjanic    Central Midfield   \n",
      "1  Manchester City  25.0      João Cancelo          Right-Back   \n",
      "2      Juventus FC  28.0            Danilo          Right-Back   \n",
      "3      Juventus FC  24.0            Arthur  Defensive Midfield   \n",
      "4        Genoa CFC  20.0  Manolo Portanova    Central Midfield   \n",
      "5        Genoa CFC  19.0     Elia Petrelli      Centre-Forward   \n",
      "6      Juventus FC  19.0    Nicolò Rovella  Defensive Midfield   \n",
      "\n",
      "  club_involved_name  season  Valore Reale  Valore Predetto  \n",
      "0           Juventus    2020          60.0        34.438650  \n",
      "1           Juventus    2019          65.0        33.308543  \n",
      "2    Manchester City    2019          37.0        20.329335  \n",
      "3          Barcelona    2020          76.0        31.909769  \n",
      "4           Juventus    2020          10.0         9.033331  \n",
      "5           Juventus    2020           8.0         8.567023  \n",
      "6              Genoa    2020          23.3        16.868371  \n"
     ]
    }
   ],
   "source": [
    "import numpy as np\n",
    "import matplotlib.pyplot as plt\n",
    "import seaborn as sns\n",
    "import pandas as pd\n",
    "from sklearn.model_selection import train_test_split\n",
    "from sklearn.preprocessing import LabelEncoder, OneHotEncoder, StandardScaler\n",
    "from sklearn.neural_network import MLPRegressor\n",
    "from sklearn.metrics import mean_squared_error, r2_score\n",
    "\n",
    "# Carica il dataset dai file CSV\n",
    "train_data = pd.read_csv(\"C:/Users/Utente/Desktop/cakio/dcereijo-player-scores/data/Rest.csv\")\n",
    "test_data = pd.read_csv(\"C:/Users/Utente/Desktop/cakio/dcereijo-player-scores/data/Juve.csv\")\n",
    "\n",
    "# Seleziona le colonne che verranno utilizzate come features (variabili indipendenti)\n",
    "features = ['Overall_club_name', 'Overall_club_involved', 'league_destination', 'age', 'club_name', 'player_name', 'position', 'club_involved_name', 'transfer_period', 'league_name', 'season', 'OverallSeasonClub', 'OverallSeasonClub2']\n",
    "\n",
    "X_train = train_data[features]\n",
    "X_test = test_data[features]\n",
    "\n",
    "# Seleziona la variabile target (variabile dipendente)\n",
    "y_train = train_data['fee_cleaned']\n",
    "y_test = test_data['fee_cleaned']\n",
    "\n",
    "# Codifica le variabili categoriche usando OneHotEncoder\n",
    "categorical_cols = ['Overall_club_name', 'league_destination', 'club_name', 'player_name', 'position', 'club_involved_name', 'transfer_period', 'league_name', 'season', 'OverallSeasonClub', 'OverallSeasonClub2']\n",
    "encoder = OneHotEncoder(sparse=False, handle_unknown='ignore')\n",
    "X_train_encoded = pd.DataFrame(encoder.fit_transform(X_train[categorical_cols]))\n",
    "X_test_encoded = pd.DataFrame(encoder.transform(X_test[categorical_cols]))\n",
    "\n",
    "# Unisci le features codificate con le altre features\n",
    "X_train_processed = pd.concat([X_train.drop(categorical_cols, axis=1), X_train_encoded], axis=1)\n",
    "X_test_processed = pd.concat([X_test.drop(categorical_cols, axis=1), X_test_encoded], axis=1)\n",
    "\n",
    "# Creazione e addestramento dello scaler\n",
    "scaler = StandardScaler()\n",
    "X_train_scaled = scaler.fit_transform(X_train_processed)\n",
    "X_test_scaled = scaler.transform(X_test_processed)\n",
    "\n",
    "# Creazione e addestramento del modello ANN\n",
    "model = MLPRegressor(hidden_layer_sizes=(100, 100), activation='relu', random_state=42)\n",
    "model.fit(X_train_scaled, y_train)\n",
    "\n",
    "# Effettua le previsioni sul set di test\n",
    "y_pred = model.predict(X_test_scaled)\n",
    "\n",
    "# Valuta le prestazioni del modello\n",
    "mse = mean_squared_error(y_test, y_pred)\n",
    "r2 = r2_score(y_test, y_pred)\n",
    "print('Mean Squared Error:', mse)\n",
    "print('R^2 Score:', r2)\n",
    "\n",
    "# Grafico dei valori predetti rispetto ai valori reali\n",
    "plt.scatter(y_test, y_pred)\n",
    "plt.xlabel('Valori Reali')\n",
    "plt.ylabel('Valori Predetti')\n",
    "plt.title('Confronto tra Valori Reali e Valori Predetti')\n",
    "plt.show()\n",
    "\n",
    "# Grafico dei residui\n",
    "residuals = y_test - y_pred\n",
    "plt.hist(residuals, bins=20)\n",
    "plt.xlabel('Residui')\n",
    "plt.ylabel('Frequenza')\n",
    "plt.title('Distribuzione dei Residui')\n",
    "plt.show()\n",
    "\n",
    "# Creazione di una tabella con i dettagli dei dati di test, il valore reale e il valore predetto\n",
    "results = X_test.copy()\n",
    "results['Valore Reale'] = y_test\n",
    "results['Valore Predetto'] = y_pred\n",
    "results = results[['club_name', 'age', 'player_name', 'position', 'club_involved_name', 'season', 'Valore Reale', 'Valore Predetto']]\n",
    "\n",
    "print(results)\n",
    "\n"
   ]
  },
  {
   "cell_type": "code",
   "execution_count": 21,
   "id": "9113f141",
   "metadata": {},
   "outputs": [
    {
     "name": "stderr",
     "output_type": "stream",
     "text": [
      "C:\\Users\\Utente\\anaconda4\\lib\\site-packages\\sklearn\\utils\\validation.py:1688: FutureWarning: Feature names only support names that are all strings. Got feature names with dtypes: ['int', 'str']. An error will be raised in 1.2.\n",
      "  warnings.warn(\n",
      "C:\\Users\\Utente\\anaconda4\\lib\\site-packages\\sklearn\\utils\\validation.py:1688: FutureWarning: Feature names only support names that are all strings. Got feature names with dtypes: ['int', 'str']. An error will be raised in 1.2.\n",
      "  warnings.warn(\n"
     ]
    },
    {
     "name": "stdout",
     "output_type": "stream",
     "text": [
      "Mean Squared Error: 811.9185714285715\n",
      "R^2 Score: -0.253839773033123\n"
     ]
    },
    {
     "data": {
      "image/png": "[encoded data removed]",
      "text/plain": [
       "<Figure size 432x288 with 1 Axes>"
      ]
     },
     "metadata": {
      "needs_background": "light"
     },
     "output_type": "display_data"
    },
    {
     "data": {
      "image/png": "[encoded data removed]",
      "text/plain": [
       "<Figure size 432x288 with 1 Axes>"
      ]
     },
     "metadata": {
      "needs_background": "light"
     },
     "output_type": "display_data"
    },
    {
     "name": "stdout",
     "output_type": "stream",
     "text": [
      "         club_name   age       player_name            position  \\\n",
      "0     FC Barcelona  30.0    Miralem Pjanic    Central Midfield   \n",
      "1  Manchester City  25.0      João Cancelo          Right-Back   \n",
      "2      Juventus FC  28.0            Danilo          Right-Back   \n",
      "3      Juventus FC  24.0            Arthur  Defensive Midfield   \n",
      "4        Genoa CFC  20.0  Manolo Portanova    Central Midfield   \n",
      "5        Genoa CFC  19.0     Elia Petrelli      Centre-Forward   \n",
      "6      Juventus FC  19.0    Nicolò Rovella  Defensive Midfield   \n",
      "\n",
      "  club_involved_name  season  Valore Reale  Valore Predetto  \n",
      "0           Juventus    2020          60.0             18.0  \n",
      "1           Juventus    2019          65.0             62.7  \n",
      "2    Manchester City    2019          37.0             19.5  \n",
      "3          Barcelona    2020          76.0             20.0  \n",
      "4           Juventus    2020          10.0              7.0  \n",
      "5           Juventus    2020           8.0              2.5  \n",
      "6              Genoa    2020          23.3              2.5  \n"
     ]
    }
   ],
   "source": [
    "import numpy as np\n",
    "import matplotlib.pyplot as plt\n",
    "import seaborn as sns\n",
    "import pandas as pd\n",
    "from sklearn.model_selection import train_test_split\n",
    "from sklearn.preprocessing import OneHotEncoder\n",
    "from sklearn.tree import DecisionTreeRegressor\n",
    "from sklearn.metrics import mean_squared_error, r2_score\n",
    "\n",
    "# Carica il dataset dai file CSV\n",
    "train_data = pd.read_csv(\"C:/Users/Utente/Desktop/cakio/dcereijo-player-scores/data/Rest.csv\")\n",
    "test_data = pd.read_csv(\"C:/Users/Utente/Desktop/cakio/dcereijo-player-scores/data/Juve.csv\")\n",
    "\n",
    "# Seleziona le colonne che verranno utilizzate come features (variabili indipendenti)\n",
    "features = ['Overall_club_name', 'Overall_club_involved', 'league_destination', 'age', 'club_name', 'player_name', 'position', 'club_involved_name', 'transfer_period', 'league_name', 'season', 'OverallSeasonClub', 'OverallSeasonClub2']\n",
    "\n",
    "X_train = train_data[features]\n",
    "X_test = test_data[features]\n",
    "\n",
    "# Seleziona la variabile target (variabile dipendente)\n",
    "y_train = train_data['fee_cleaned']\n",
    "y_test = test_data['fee_cleaned']\n",
    "\n",
    "# Codifica le variabili categoriche usando OneHotEncoder\n",
    "categorical_cols = ['Overall_club_name', 'league_destination', 'club_name', 'player_name', 'position', 'club_involved_name', 'transfer_period', 'league_name', 'season', 'OverallSeasonClub', 'OverallSeasonClub2']\n",
    "encoder = OneHotEncoder(sparse=False, handle_unknown='ignore')\n",
    "X_train_encoded = pd.DataFrame(encoder.fit_transform(X_train[categorical_cols]))\n",
    "X_test_encoded = pd.DataFrame(encoder.transform(X_test[categorical_cols]))\n",
    "\n",
    "# Unisci le features codificate con le altre features\n",
    "X_train_processed = pd.concat([X_train.drop(categorical_cols, axis=1), X_train_encoded], axis=1)\n",
    "X_test_processed = pd.concat([X_test.drop(categorical_cols, axis=1), X_test_encoded], axis=1)\n",
    "\n",
    "# Creazione e addestramento del modello Decision Tree\n",
    "model = DecisionTreeRegressor(random_state=42)\n",
    "model.fit(X_train_processed, y_train)\n",
    "\n",
    "# Effettua le previsioni sul set di test\n",
    "y_pred = model.predict(X_test_processed)\n",
    "\n",
    "# Valuta le prestazioni del modello\n",
    "mse = mean_squared_error(y_test, y_pred)\n",
    "r2 = r2_score(y_test, y_pred)\n",
    "print('Mean Squared Error:', mse)\n",
    "print('R^2 Score:', r2)\n",
    "\n",
    "# Grafico dei valori predetti rispetto ai valori reali\n",
    "plt.scatter(y_test, y_pred)\n",
    "plt.xlabel('Valori Reali')\n",
    "plt.ylabel('Valori Predetti')\n",
    "plt.title('Confronto tra Valori Reali e Valori Predetti')\n",
    "plt.show()\n",
    "\n",
    "# Grafico dei residui\n",
    "residuals = y_test - y_pred\n",
    "plt.hist(residuals, bins=20)\n",
    "plt.xlabel('Residui')\n",
    "plt.ylabel('Frequenza')\n",
    "plt.title('Distribuzione dei Residui')\n",
    "plt.show()\n",
    "\n",
    "# Creazione di una tabella con i dettagli dei dati di test, il valore reale e il valore predetto\n",
    "results = X_test.copy()\n",
    "results['Valore Reale'] = y_test\n",
    "results['Valore Predetto'] = y_pred\n",
    "results = results[['club_name', 'age', 'player_name', 'position', 'club_involved_name', 'season', 'Valore Reale', 'Valore Predetto']]\n",
    "\n",
    "print(results)\n",
    "\n"
   ]
  },
  {
   "cell_type": "code",
   "execution_count": null,
   "id": "841a9166",
   "metadata": {},
   "outputs": [],
   "source": []
  },
  {
   "cell_type": "code",
   "execution_count": null,
   "id": "be5a691b",
   "metadata": {},
   "outputs": [],
   "source": []
  },
  {
   "cell_type": "code",
   "execution_count": 9,
   "id": "db1988a7",
   "metadata": {},
   "outputs": [
    {
     "name": "stderr",
     "output_type": "stream",
     "text": [
      "<ipython-input-9-c5fc399147db>:29: SettingWithCopyWarning: \n",
      "A value is trying to be set on a copy of a slice from a DataFrame.\n",
      "Try using .loc[row_indexer,col_indexer] = value instead\n",
      "\n",
      "See the caveats in the documentation: https://pandas.pydata.org/pandas-docs/stable/user_guide/indexing.html#returning-a-view-versus-a-copy\n",
      "  X_train[column] = label_encoders[column].fit_transform(X_train[column])\n",
      "<ipython-input-9-c5fc399147db>:30: SettingWithCopyWarning: \n",
      "A value is trying to be set on a copy of a slice from a DataFrame.\n",
      "Try using .loc[row_indexer,col_indexer] = value instead\n",
      "\n",
      "See the caveats in the documentation: https://pandas.pydata.org/pandas-docs/stable/user_guide/indexing.html#returning-a-view-versus-a-copy\n",
      "  X_test[column] = label_encoders[column].fit_transform(X_test[column])\n"
     ]
    },
    {
     "name": "stdout",
     "output_type": "stream",
     "text": [
      "Mean Squared Error: 590.6969559904247\n",
      "R^2 Score: 0.08779111194952072\n"
     ]
    },
    {
     "data": {
      "image/png": "[encoded data removed]",
      "text/plain": [
       "<Figure size 432x288 with 1 Axes>"
      ]
     },
     "metadata": {
      "needs_background": "light"
     },
     "output_type": "display_data"
    },
    {
     "data": {
      "image/png": "[encoded data removed]",
      "text/plain": [
       "<Figure size 432x288 with 1 Axes>"
      ]
     },
     "metadata": {
      "needs_background": "light"
     },
     "output_type": "display_data"
    }
   ],
   "source": [
    "import numpy as np\n",
    "import matplotlib.pyplot as plt\n",
    "import seaborn as sns\n",
    "from sklearn.model_selection import train_test_split\n",
    "from sklearn.preprocessing import LabelEncoder\n",
    "from sklearn.metrics import mean_squared_error, r2_score\n",
    "from sklearn.ensemble import GradientBoostingRegressor\n",
    "###Train con 2012-2021/ test con 2022\n",
    "# Load the dataset from the CSV files\n",
    "train_data = pd.read_csv(\"C:/Users/Utente/Desktop/cakio/dcereijo-player-scores/data/Rest.csv\")\n",
    "test_data = pd.read_csv(\"C:/Users/Utente/Desktop/cakio/dcereijo-player-scores/data/Juve.csv\")\n",
    "\n",
    "# Select the columns to be used as features (independent variables)\n",
    "features = [ 'Overall_club_name','Overall_club_involved', 'league_destination', 'age', 'club_name', 'player_name', 'position', 'club_involved_name', 'transfer_period', 'league_name', 'season', 'OverallSeasonClub', 'OverallSeasonClub2']\n",
    "\n",
    "X_train = train_data[features]\n",
    "X_test = test_data[features]\n",
    "\n",
    "# Select the target variable (dependent variable)\n",
    "y_train = train_data['fee_cleaned']\n",
    "y_test = test_data['fee_cleaned']\n",
    "\n",
    "# Create a dictionary to store LabelEncoder objects\n",
    "label_encoders = {}\n",
    "\n",
    "# Encode the categorical variables\n",
    "for column in X_train.select_dtypes(include=['object']):\n",
    "    label_encoders[column] = LabelEncoder()\n",
    "    X_train[column] = label_encoders[column].fit_transform(X_train[column])\n",
    "    X_test[column] = label_encoders[column].fit_transform(X_test[column])\n",
    "\n",
    "# Create and train the GBM model\n",
    "model = GradientBoostingRegressor(random_state=190)\n",
    "model.fit(X_train, y_train)\n",
    "\n",
    "# Make predictions on the test set\n",
    "y_pred = model.predict(X_test)\n",
    "\n",
    "# Evaluate the model's performance\n",
    "mse = mean_squared_error(y_test, y_pred)\n",
    "r2 = r2_score(y_test, y_pred)\n",
    "print('Mean Squared Error:', mse)\n",
    "print('R^2 Score:', r2)\n",
    "\n",
    "# Plot predicted values against real values\n",
    "plt.scatter(y_test, y_pred)\n",
    "plt.xlabel('Real Values')\n",
    "plt.ylabel('Predicted Values')\n",
    "plt.title('Comparison of Real Values and Predicted Values')\n",
    "plt.show()\n",
    "\n",
    "# Plot residuals\n",
    "residuals = y_test - y_pred\n",
    "plt.hist(residuals, bins=20)\n",
    "plt.xlabel('Residuals')\n",
    "plt.ylabel('Frequency')\n",
    "plt.title('Distribution of Residuals')\n",
    "plt.show()"
   ]
  },
  {
   "cell_type": "code",
   "execution_count": 10,
   "id": "7b030deb",
   "metadata": {},
   "outputs": [
    {
     "name": "stdout",
     "output_type": "stream",
     "text": [
      "         club_name   age       player_name            position  \\\n",
      "0     FC Barcelona  30.0    Miralem Pjanic    Central Midfield   \n",
      "1  Manchester City  25.0      João Cancelo          Right-Back   \n",
      "2      Juventus FC  28.0            Danilo          Right-Back   \n",
      "3      Juventus FC  24.0            Arthur  Defensive Midfield   \n",
      "4        Genoa CFC  20.0  Manolo Portanova    Central Midfield   \n",
      "5        Genoa CFC  19.0     Elia Petrelli      Centre-Forward   \n",
      "6      Juventus FC  19.0    Nicolò Rovella  Defensive Midfield   \n",
      "\n",
      "  club_involved_name  season  Valore Reale  Valore Predetto  \n",
      "0           Juventus    2020          60.0        34.678876  \n",
      "1           Juventus    2019          65.0        44.472169  \n",
      "2    Manchester City    2019          37.0        36.622653  \n",
      "3          Barcelona    2020          76.0        21.468282  \n",
      "4           Juventus    2020          10.0         7.105132  \n",
      "5           Juventus    2020           8.0         6.333863  \n",
      "6              Genoa    2020          23.3        13.955452  \n"
     ]
    }
   ],
   "source": [
    "# Crea una tabella con i dettagli dei dati di test, il valore reale e il valore predetto\n",
    "results = X_test.copy()\n",
    "results['Valore Reale'] = y_test\n",
    "results['Valore Predetto'] = y_pred\n",
    "results = results[['club_name', 'age', 'player_name', 'position', 'club_involved_name', 'season', 'Valore Reale', 'Valore Predetto']]\n",
    "\n",
    "# Decodifica le variabili categoriche nella tabella dei risultati\n",
    "categorical_columns = ['club_name', 'player_name', 'position', 'club_involved_name']\n",
    "\n",
    "for column in categorical_columns:\n",
    "    decoded_values = label_encoders[column].inverse_transform(results[column])\n",
    "    results[column] = decoded_values\n",
    "\n",
    "print(results)\n"
   ]
  },
  {
   "cell_type": "code",
   "execution_count": 11,
   "id": "3a5bd0b8",
   "metadata": {},
   "outputs": [
    {
     "name": "stdout",
     "output_type": "stream",
     "text": [
      "         club_name   age       player_name            position  \\\n",
      "0     FC Barcelona  30.0    Miralem Pjanic    Central Midfield   \n",
      "1  Manchester City  25.0      João Cancelo          Right-Back   \n",
      "2      Juventus FC  28.0            Danilo          Right-Back   \n",
      "3      Juventus FC  24.0            Arthur  Defensive Midfield   \n",
      "4        Genoa CFC  20.0  Manolo Portanova    Central Midfield   \n",
      "5        Genoa CFC  19.0     Elia Petrelli      Centre-Forward   \n",
      "6      Juventus FC  19.0    Nicolò Rovella  Defensive Midfield   \n",
      "\n",
      "  club_involved_name  season  Valore Reale  Valore Predetto  Differenza  \n",
      "0           Juventus    2020          60.0        34.678876  -25.321124  \n",
      "1           Juventus    2019          65.0        44.472169  -20.527831  \n",
      "2    Manchester City    2019          37.0        36.622653   -0.377347  \n",
      "3          Barcelona    2020          76.0        21.468282  -54.531718  \n",
      "4           Juventus    2020          10.0         7.105132   -2.894868  \n",
      "5           Juventus    2020           8.0         6.333863   -1.666137  \n",
      "6              Genoa    2020          23.3        13.955452   -9.344548  \n"
     ]
    }
   ],
   "source": [
    "df= results\n",
    "# Crea la colonna della differenza tra valore predetto e valore reale\n",
    "df['Differenza'] = df['Valore Predetto'] - df['Valore Reale']\n",
    "\n",
    "print(df)"
   ]
  },
  {
   "cell_type": "code",
   "execution_count": 12,
   "id": "2fcd4cc7",
   "metadata": {},
   "outputs": [
    {
     "data": {
      "image/png": "[encoded data removed]",
      "text/plain": [
       "<Figure size 720x432 with 1 Axes>"
      ]
     },
     "metadata": {
      "needs_background": "light"
     },
     "output_type": "display_data"
    }
   ],
   "source": [
    "import pandas as pd\n",
    "import matplotlib.pyplot as plt\n",
    "\n",
    "\n",
    "\n",
    "# Filtra i dati per i giocatori di interesse\n",
    "players = ['Nicolò Rovella', 'Manolo Portanova', 'Elia Petrelli']\n",
    "filtered_df = df[df['player_name'].isin(players)]\n",
    "\n",
    "# Calcola la somma dei valori reali di Portanova e Petrelli\n",
    "sum_portanova_petrelli = filtered_df[filtered_df['player_name'] != 'Nicolò Rovella']['Valore Reale'].sum()\n",
    "\n",
    "# Crea il grafico a barre\n",
    "plt.figure(figsize=(10, 6))\n",
    "plt.bar('Nicolò Rovella', filtered_df[filtered_df['player_name'] == 'Nicolò Rovella']['Valore Reale'], label='Nicolò Rovella')\n",
    "plt.bar('Manolo Portanova + Elia Petrelli', sum_portanova_petrelli, label='Manolo Portanova + Elia Petrelli')\n",
    "plt.xlabel('Giocatori')\n",
    "plt.ylabel('Valore Reale')\n",
    "plt.title('Confronto Prezzo Reale - Nicolò Rovella vs Manolo Portanova + Elia Petrelli')\n",
    "plt.legend()\n",
    "plt.grid(True)\n",
    "plt.show()\n",
    "\n",
    "\n"
   ]
  },
  {
   "cell_type": "code",
   "execution_count": 13,
   "id": "f5c37d92",
   "metadata": {},
   "outputs": [
    {
     "data": {
      "image/png": "[encoded data removed]",
      "text/plain": [
       "<Figure size 720x432 with 1 Axes>"
      ]
     },
     "metadata": {
      "needs_background": "light"
     },
     "output_type": "display_data"
    }
   ],
   "source": [
    "# Filtra i dati per i giocatori di interesse\n",
    "players = ['Nicolò Rovella', 'Manolo Portanova', 'Elia Petrelli']\n",
    "filtered_df = df[df['player_name'].isin(players)]\n",
    "\n",
    "# Calcola la somma dei valori reali di Portanova e Petrelli\n",
    "sum_portanova_petrelli = filtered_df[filtered_df['player_name'] != 'Nicolò Rovella']['Valore Predetto'].sum()\n",
    "\n",
    "# Crea il grafico a barre\n",
    "plt.figure(figsize=(10, 6))\n",
    "plt.bar('Nicolò Rovella', filtered_df[filtered_df['player_name'] == 'Nicolò Rovella']['Valore Predetto'], label='Nicolò Rovella')\n",
    "plt.bar('Manolo Portanova + Elia Petrelli', sum_portanova_petrelli, label='Manolo Portanova + Elia Petrelli')\n",
    "plt.xlabel('Giocatori')\n",
    "plt.ylabel('Valore Predetto')\n",
    "plt.title('Confronto Prezzo Predetto - Nicolò Rovella vs Manolo Portanova + Elia Petrelli')\n",
    "plt.legend()\n",
    "plt.grid(True)\n",
    "plt.show()\n",
    "\n"
   ]
  },
  {
   "cell_type": "code",
   "execution_count": 14,
   "id": "0c78db61",
   "metadata": {},
   "outputs": [
    {
     "data": {
      "image/png": "[encoded data removed]",
      "text/plain": [
       "<Figure size 720x432 with 1 Axes>"
      ]
     },
     "metadata": {
      "needs_background": "light"
     },
     "output_type": "display_data"
    }
   ],
   "source": [
    "import pandas as pd\n",
    "import matplotlib.pyplot as plt\n",
    "\n",
    "\n",
    "\n",
    "# Filtra i dati per i giocatori di interesse\n",
    "players = ['Arthur', 'Miralem Pjanic']\n",
    "filtered_df = df[df['player_name'].isin(players)]\n",
    "\n",
    "# Prendi i valori dei prezzi reali di Arthur e Pjanic\n",
    "price_arthur = filtered_df[filtered_df['player_name'] == 'Arthur']['Valore Reale'].values[0]\n",
    "price_pjanic = filtered_df[filtered_df['player_name'] == 'Miralem Pjanic']['Valore Reale'].values[0]\n",
    "\n",
    "# Crea il grafico a barre\n",
    "plt.figure(figsize=(10, 6))\n",
    "bars = plt.bar(['Arthur', 'Miralem Pjanic'], [price_arthur, price_pjanic])\n",
    "\n",
    "# Colora la barra di Miralem Pjanic di arancione\n",
    "bars[1].set_color('orange')\n",
    "\n",
    "plt.xlabel('Giocatori')\n",
    "plt.ylabel('Valore Reale')\n",
    "plt.title('Prezzo Reale - Arthur vs Miralem Pjanic')\n",
    "plt.grid(True)\n",
    "plt.show()\n"
   ]
  },
  {
   "cell_type": "code",
   "execution_count": 15,
   "id": "2c15da67",
   "metadata": {},
   "outputs": [
    {
     "data": {
      "image/png": "[encoded data removed]",
      "text/plain": [
       "<Figure size 720x432 with 1 Axes>"
      ]
     },
     "metadata": {
      "needs_background": "light"
     },
     "output_type": "display_data"
    }
   ],
   "source": [
    "import pandas as pd\n",
    "import matplotlib.pyplot as plt\n",
    "\n",
    "\n",
    "# Filtra i dati per i giocatori di interesse\n",
    "players = ['Arthur', 'Miralem Pjanic']\n",
    "filtered_df = df[df['player_name'].isin(players)]\n",
    "\n",
    "# Prendi i valori dei prezzi reali di Arthur e Pjanic\n",
    "price_arthur = filtered_df[filtered_df['player_name'] == 'Arthur']['Valore Predetto'].values[0]\n",
    "price_pjanic = filtered_df[filtered_df['player_name'] == 'Miralem Pjanic']['Valore Predetto'].values[0]\n",
    "\n",
    "# Crea il grafico a barre\n",
    "plt.figure(figsize=(10, 6))\n",
    "bars = plt.bar(['Arthur', 'Miralem Pjanic'], [price_arthur, price_pjanic])\n",
    "\n",
    "# Colora la barra di Miralem Pjanic di arancione\n",
    "bars[1].set_color('orange')\n",
    "\n",
    "plt.xlabel('Giocatori')\n",
    "plt.ylabel('Valore Predetto')\n",
    "plt.title('Prezzo Predetto - Arthur vs Miralem Pjanic')\n",
    "plt.grid(True)\n",
    "plt.show()\n"
   ]
  },
  {
   "cell_type": "code",
   "execution_count": 16,
   "id": "02d8eeaf",
   "metadata": {},
   "outputs": [
    {
     "data": {
      "image/png": "[encoded data removed]",
      "text/plain": [
       "<Figure size 720x432 with 1 Axes>"
      ]
     },
     "metadata": {
      "needs_background": "light"
     },
     "output_type": "display_data"
    }
   ],
   "source": [
    "import pandas as pd\n",
    "import matplotlib.pyplot as plt\n",
    "\n",
    "\n",
    "\n",
    "# Filtra i dati per i giocatori di interesse\n",
    "players = ['Danilo', 'João Cancelo']\n",
    "filtered_df = df[df['player_name'].isin(players)]\n",
    "\n",
    "# Prendi i valori dei prezzi reali di Arthur e Pjanic\n",
    "price_arthur = filtered_df[filtered_df['player_name'] == 'Danilo']['Valore Reale'].values[0]\n",
    "price_pjanic = filtered_df[filtered_df['player_name'] == 'João Cancelo']['Valore Reale'].values[0]\n",
    "\n",
    "# Crea il grafico a barre\n",
    "plt.figure(figsize=(10, 6))\n",
    "bars = plt.bar(['Danilo', 'João Cancelo'], [price_arthur, price_pjanic])\n",
    "\n",
    "# Colora la barra di Miralem Pjanic di arancione\n",
    "bars[1].set_color('orange')\n",
    "\n",
    "plt.xlabel('Giocatori')\n",
    "plt.ylabel('Valore Reale')\n",
    "plt.title('Prezzo Reale - Danilo vs João Cancelo')\n",
    "plt.grid(True)\n",
    "plt.show()"
   ]
  },
  {
   "cell_type": "code",
   "execution_count": 17,
   "id": "ae6aca24",
   "metadata": {},
   "outputs": [
    {
     "data": {
      "image/png": "[encoded data removed]",
      "text/plain": [
       "<Figure size 720x432 with 1 Axes>"
      ]
     },
     "metadata": {
      "needs_background": "light"
     },
     "output_type": "display_data"
    }
   ],
   "source": [
    "import pandas as pd\n",
    "import matplotlib.pyplot as plt\n",
    "\n",
    "\n",
    "\n",
    "# Filtra i dati per i giocatori di interesse\n",
    "players = ['Danilo', 'João Cancelo']\n",
    "filtered_df = df[df['player_name'].isin(players)]\n",
    "\n",
    "# Prendi i valori dei prezzi reali di Arthur e Pjanic\n",
    "price_arthur = filtered_df[filtered_df['player_name'] == 'Danilo']['Valore Predetto'].values[0]\n",
    "price_pjanic = filtered_df[filtered_df['player_name'] == 'João Cancelo']['Valore Predetto'].values[0]\n",
    "\n",
    "# Crea il grafico a barre\n",
    "plt.figure(figsize=(10, 6))\n",
    "bars = plt.bar(['Danilo', 'João Cancelo'], [price_arthur, price_pjanic])\n",
    "\n",
    "# Colora la barra di Miralem Pjanic di arancione\n",
    "bars[1].set_color('orange')\n",
    "\n",
    "plt.xlabel('Giocatori')\n",
    "plt.ylabel('Valore Predetto')\n",
    "plt.title('Prezzo Predetto - Danilo vs João Cancelo')\n",
    "plt.grid(True)\n",
    "plt.show()"
   ]
  },
  {
   "cell_type": "code",
   "execution_count": 18,
   "id": "00dee669",
   "metadata": {},
   "outputs": [
    {
     "name": "stdout",
     "output_type": "stream",
     "text": [
      "Primi 20 risultati:\n",
      "club_name\n",
      "Paris Saint-Germain      103.403934\n",
      "Arsenal FC                58.186849\n",
      "Atalanta BC               44.257237\n",
      "Eintracht Frankfurt       44.214487\n",
      "Swansea City              37.728664\n",
      "FK Rostov                 37.181040\n",
      "Tottenham Hotspur         35.607052\n",
      "Juventus FC               34.651484\n",
      "Torino FC                 30.129802\n",
      "Krylya Sovetov Samara     29.533235\n",
      "SM Caen                   28.683726\n",
      "AS Saint-Étienne          28.248408\n",
      "Feyenoord Rotterdam       22.032175\n",
      "Vitória Guimarães SC      21.645716\n",
      "Real Valladolid CF        20.976560\n",
      "SS Lazio                  20.029109\n",
      "RC Strasbourg Alsace      19.220263\n",
      "Hellas Verona             19.084866\n",
      "VfB Stuttgart             18.009112\n",
      "Norwich City              17.974932\n",
      "Name: Differenza, dtype: float64\n",
      "Peggiori 20 risultati:\n",
      "club_name\n",
      "West Ham United         -29.169396\n",
      "Athletic Bilbao         -30.582461\n",
      "TSG 1899 Hoffenheim     -31.094445\n",
      "SSC Napoli              -36.830186\n",
      "RB Leipzig              -39.257661\n",
      "Olympique Lyon          -42.469881\n",
      "AS Monaco               -45.388003\n",
      "Olympique Marseille     -48.353518\n",
      "FC Porto                -50.554877\n",
      "Zenit St. Petersburg    -61.391178\n",
      "Valencia CF             -63.609723\n",
      "Everton FC              -64.073922\n",
      "Bayern Munich           -66.213164\n",
      "Liverpool FC            -68.461710\n",
      "Manchester United       -71.918890\n",
      "AC Milan                -83.312242\n",
      "AS Roma                 -94.638140\n",
      "Chelsea FC             -138.880777\n",
      "Inter Milan            -160.844814\n",
      "FC Barcelona           -230.521257\n",
      "Name: Differenza, dtype: float64\n"
     ]
    }
   ],
   "source": [
    "import pandas as pd\n",
    "\n",
    "# Carica il dataset dal tuo CSV\n",
    "df = pd.read_csv(\"GBMD.csv\")\n",
    "\n",
    "# Calcola la somma della colonna \"Differenza\" per ogni \"club_name\"\n",
    "sum_differences = df.groupby(\"club_name\")[\"Differenza\"].sum()\n",
    "\n",
    "# Ordina i risultati in ordine decrescente\n",
    "sorted_sum_differences = sum_differences.sort_values(ascending=False)\n",
    "\n",
    "# Stampa i primi 20 risultati\n",
    "print(\"Primi 20 risultati:\")\n",
    "print(sorted_sum_differences.head(20))\n",
    "\n",
    "# Stampa i peggiori 20 risultati\n",
    "print(\"Peggiori 20 risultati:\")\n",
    "print(sorted_sum_differences.tail(20))\n"
   ]
  },
  {
   "cell_type": "code",
   "execution_count": null,
   "id": "99713524",
   "metadata": {},
   "outputs": [],
   "source": [
    "import pandas as pd\n",
    "from sklearn.model_selection import train_test_split, GridSearchCV\n",
    "from sklearn.preprocessing import OneHotEncoder\n",
    "import xgboost as xgb\n",
    "from sklearn.metrics import mean_absolute_error, mean_squared_error, mean_squared_log_error, explained_variance_score, r2_score\n",
    "\n",
    "# Carica il dataset di addestramento e test\n",
    "train_data = pd.read_csv(\"C:/Users/Utente/Desktop/cakio/dcereijo-player-scores/data/Rest.csv\")\n",
    "test_data = pd.read_csv(\"C:/Users/Utente/Desktop/cakio/dcereijo-player-scores/data/Juve.csv\")\n",
    "\n",
    "# Seleziona le feature che desideri utilizzare per la regressione\n",
    "features = ['age', 'OverallSeasonClub', 'OverallSeasonClub2', 'Overall_club_name', 'Overall_club_involved']\n",
    "\n",
    "# Seleziona la variabile target\n",
    "target = 'fee_cleaned'\n",
    "\n",
    "# Dividi il dataset di addestramento in caratteristiche e variabile target\n",
    "X_train = train_data[features]\n",
    "y_train = train_data[target]\n",
    "\n",
    "# Dividi il dataset di test in caratteristiche e variabile target\n",
    "X_test = test_data[features]\n",
    "y_test = test_data[target]\n",
    "\n",
    "# Codifica le caratteristiche categoriche\n",
    "cat_features = ['club_name', 'player_name', 'position', 'club_involved_name', 'transfer_period', 'league_name', 'season','league_destination']\n",
    "encoder = OneHotEncoder(sparse=False, drop='first', handle_unknown='ignore')\n",
    "X_train_encoded = pd.DataFrame(encoder.fit_transform(train_data[cat_features]))\n",
    "X_train_encoded.columns = encoder.get_feature_names(cat_features)\n",
    "\n",
    "X_test_encoded = pd.DataFrame(encoder.transform(test_data[cat_features]))\n",
    "X_test_encoded.columns = encoder.get_feature_names(cat_features)\n",
    "\n",
    "# Concatena le caratteristiche codificate con quelle numeriche per il set di addestramento\n",
    "X_train = pd.concat([X_train, X_train_encoded], axis=1)\n",
    "\n",
    "# Concatena le caratteristiche codificate con quelle numeriche per il set di test\n",
    "X_test = pd.concat([X_test, X_test_encoded], axis=1)\n",
    "\n",
    "# Crea il modello XGBoost\n",
    "xgb_model = xgb.XGBRegressor()\n",
    "\n",
    "# Definisci i parametri per la griglia di ricerca\n",
    "param_grid = {\n",
    "    'learning_rate': [0.1, 0.01, 0.001],\n",
    "    'max_depth': [3, 5, 7],\n",
    "    'n_estimators': [100, 200, 300],\n",
    "    'subsample': [0.8, 1.0],\n",
    "    'colsample_bytree': [0.8, 1.0],\n",
    "    'reg_alpha': [0, 0.1, 0.5],\n",
    "    'reg_lambda': [0, 0.1, 0.5]\n",
    "}\n",
    "\n",
    "# Crea l'oggetto per la griglia di ricerca\n",
    "grid_search = GridSearchCV(estimator=xgb_model, param_grid=param_grid, scoring='neg_mean_squared_error', cv=5, n_jobs=-1)\n",
    "\n",
    "# Esegui la griglia di ricerca per trovare i migliori parametri\n",
    "grid_search.fit(X_train, y_train)\n",
    "\n",
    "# Ottieni i parametri ottimali\n",
    "best_params = grid_search.best_params_\n",
    "print(\"Migliori parametri:\", best_params)\n",
    "\n",
    "# Addestra il modello con i parametri ottimali\n",
    "xgb_model = xgb.XGBRegressor(**best_params)\n",
    "xgb_model.fit(X_train, y_train)\n",
    "\n",
    "# Fai le previsioni sul set di test utilizzando il modello addestrato\n",
    "y_pred = xgb_model.predict(X_test)\n",
    "\n",
    "# Calcola le metriche di valutazione\n",
    "mse = mean_squared_error(y_test, y_pred)\n",
    "mae = mean_absolute_error(y_test, y_pred)\n",
    "msle = mean_squared_log_error(y_test, y_pred)\n",
    "evs = explained_variance_score(y_test, y_pred)\n",
    "r2 = r2_score(y_test, y_pred)\n",
    "\n",
    "print(\"Mean Squared Error:\", mse)\n",
    "print(\"Mean Absolute Error:\", mae)\n",
    "print(\"Mean Squared Log Error:\", msle)\n",
    "print(\"Explained Variance Score:\", evs)\n",
    "print(\"R-squared:\", r2)"
   ]
  },
  {
   "cell_type": "code",
   "execution_count": null,
   "id": "e7aaaeec",
   "metadata": {},
   "outputs": [],
   "source": []
  }
 ],
 "metadata": {
  "kernelspec": {
   "display_name": "Python 3",
   "language": "python",
   "name": "python3"
  },
  "language_info": {
   "codemirror_mode": {
    "name": "ipython",
    "version": 3
   },
   "file_extension": ".py",
   "mimetype": "text/x-python",
   "name": "python",
   "nbconvert_exporter": "python",
   "pygments_lexer": "ipython3",
   "version": "3.8.8"
  }
 },
 "nbformat": 4,
 "nbformat_minor": 5
}
