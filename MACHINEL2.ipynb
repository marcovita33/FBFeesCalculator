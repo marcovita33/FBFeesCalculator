{
 "cells": [
  {
   "cell_type": "code",
   "execution_count": 3,
   "id": "5590c801",
   "metadata": {},
   "outputs": [
    {
     "name": "stdout",
     "output_type": "stream",
     "text": [
      "Mean Squared Error: 85.83253655934966\n",
      "R-squared: 0.4799447544694547\n"
     ]
    }
   ],
   "source": [
    "import pandas as pd\n",
    "from sklearn.model_selection import train_test_split\n",
    "from sklearn.preprocessing import OneHotEncoder\n",
    "import xgboost as xgb\n",
    "from sklearn.metrics import mean_squared_error, r2_score\n",
    "###XGBOOST\n",
    "# Carica il dataset dal tuo CSV\n",
    "df = pd.read_csv(\"C:/Users/Utente/Desktop/cakio/dcereijo-player-scores/data/transfers.csv\")\n",
    "\n",
    "# Seleziona le feature che desideri utilizzare per la regressione\n",
    "features = ['age', 'OverallSeasonClub', 'OverallSeasonClub2']\n",
    "\n",
    "# Seleziona la variabile target\n",
    "target = 'fee_cleaned'\n",
    "\n",
    "# Dividi il dataset in caratteristiche e variabile target\n",
    "X = df[features]\n",
    "y = df[target]\n",
    "\n",
    "# Codifica le caratteristiche categoriche\n",
    "cat_features = ['club_name', 'player_name', 'position', 'club_involved_name', 'transfer_period', 'league_name', 'season']\n",
    "encoder = OneHotEncoder(sparse=False, drop='first')\n",
    "X_encoded = pd.DataFrame(encoder.fit_transform(df[cat_features]))\n",
    "\n",
    "# Concatena le caratteristiche codificate con quelle numeriche\n",
    "X = pd.concat([X, X_encoded], axis=1)\n",
    "\n",
    "# Dividi i dati in set di addestramento e di test\n",
    "X_train, X_test, y_train, y_test = train_test_split(X, y, test_size=0.2, random_state=42)\n",
    "\n",
    "# Crea il modello XGBoost\n",
    "xgboost_model = xgb.XGBRegressor()\n",
    "\n",
    "# Adatta il modello ai dati di addestramento\n",
    "xgboost_model.fit(X_train, y_train)\n",
    "\n",
    "# Fai le previsioni sul set di test\n",
    "y_pred = xgboost_model.predict(X_test)\n",
    "\n",
    "# Valuta le prestazioni del modello\n",
    "mse = mean_squared_error(y_test, y_pred)\n",
    "r2 = r2_score(y_test, y_pred)\n",
    "\n",
    "print(\"Mean Squared Error:\", mse)\n",
    "print(\"R-squared:\", r2)\n"
   ]
  },
  {
   "cell_type": "code",
   "execution_count": 7,
   "id": "0c8fa5e9",
   "metadata": {},
   "outputs": [
    {
     "name": "stdout",
     "output_type": "stream",
     "text": [
      "Mean Squared Error: 128.12701481824664\n",
      "R-squared: 0.22368452778597536\n"
     ]
    }
   ],
   "source": [
    "import pandas as pd\n",
    "from sklearn.model_selection import train_test_split\n",
    "from sklearn.tree import DecisionTreeRegressor\n",
    "from sklearn.metrics import mean_squared_error, r2_score\n",
    "##DECISIONTREE\n",
    "# Carica il dataset dal file CSV\n",
    "data = pd.read_csv(\"C:/Users/Utente/Desktop/cakio/dcereijo-player-scores/data/transfers.csv\")\n",
    "\n",
    "# Seleziona le colonne di input (variabili indipendenti)\n",
    "features = ['age','club_name', 'player_name', 'position', 'club_involved_name', 'transfer_period', 'league_name', 'season', 'OverallSeasonClub', 'OverallSeasonClub2']\n",
    "X = data[features]\n",
    "\n",
    "# Seleziona la variabile target (variabile dipendente)\n",
    "y = data['fee_cleaned']\n",
    "\n",
    "# Effettua la codifica delle variabili categoriche\n",
    "X_encoded = pd.get_dummies(X)\n",
    "\n",
    "# Suddividi il dataset in set di addestramento e set di test\n",
    "X_train, X_test, y_train, y_test = train_test_split(X_encoded, y, test_size=0.2, random_state=42)\n",
    "\n",
    "# Crea e addestra il modello dell'albero decisionale\n",
    "model = DecisionTreeRegressor(random_state=42)\n",
    "model.fit(X_train, y_train)\n",
    "\n",
    "# Effettua le previsioni sul set di test\n",
    "y_pred = model.predict(X_test)\n",
    "\n",
    "# Valuta le prestazioni del modello\n",
    "mse = mean_squared_error(y_test, y_pred)\n",
    "r2 = r2_score(y_test, y_pred)\n",
    "\n",
    "print('Mean Squared Error:', mse)\n",
    "print('R-squared:', r2)\n"
   ]
  },
  {
   "cell_type": "code",
   "execution_count": null,
   "id": "850e761b",
   "metadata": {},
   "outputs": [],
   "source": []
  }
 ],
 "metadata": {
  "kernelspec": {
   "display_name": "Python 3",
   "language": "python",
   "name": "python3"
  },
  "language_info": {
   "codemirror_mode": {
    "name": "ipython",
    "version": 3
   },
   "file_extension": ".py",
   "mimetype": "text/x-python",
   "name": "python",
   "nbconvert_exporter": "python",
   "pygments_lexer": "ipython3",
   "version": "3.8.8"
  }
 },
 "nbformat": 4,
 "nbformat_minor": 5
}
