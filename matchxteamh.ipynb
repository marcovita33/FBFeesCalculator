{
 "cells": [
  {
   "cell_type": "code",
   "execution_count": 1,
   "id": "a4db292b",
   "metadata": {},
   "outputs": [
    {
     "name": "stdout",
     "output_type": "stream",
     "text": [
      "      club_home_name  club_away_name competition_id         round  season  \\\n",
      "0         Fc Utrecht  Ajax Amsterdam            NL1  18. Matchday    2012   \n",
      "1         Fc Utrecht  Ajax Amsterdam            NL1  21. Matchday    2013   \n",
      "2         Fc Utrecht  Ajax Amsterdam            NL1  29. Matchday    2014   \n",
      "3         Fc Utrecht  Ajax Amsterdam            NL1  16. Matchday    2015   \n",
      "4         Fc Utrecht  Ajax Amsterdam            NL1  19. Matchday    2016   \n",
      "...              ...             ...            ...           ...     ...   \n",
      "11494      Aek Athen    Pas Giannina            GR1  17. Matchday    2017   \n",
      "11495      Aek Athen    Pas Giannina            GR1   1. Matchday    2018   \n",
      "11496      Aek Athen    Pas Giannina            GR1  19. Matchday    2020   \n",
      "11497      Aek Athen    Pas Giannina            GR1  24. Matchday    2021   \n",
      "11498      Aek Athen    Pas Giannina            GR1   3. Matchday    2022   \n",
      "\n",
      "       home_club_goals  away_club_goals  away_club_id  home_club_id  game_id  \\\n",
      "0                    0                0           610           200  2250327   \n",
      "1                    1                1           610           200  2342452   \n",
      "2                    1                1           610           200  2459843   \n",
      "3                    1                0           610           200  2589031   \n",
      "4                    0                1           610           200  2700793   \n",
      "...                ...              ...           ...           ...      ...   \n",
      "11494                3                1          2671          2441  2891545   \n",
      "11495                2                0          2671          2441  3095946   \n",
      "11496                0                2          2671          2441  3507077   \n",
      "11497                2                0          2671          2441  3748476   \n",
      "11498                2                0          2671          2441  3889001   \n",
      "\n",
      "       peso round  Overall_home    name22  Overall_away  similarity_score  \\\n",
      "0             1.0      0.230512      Ajax      0.683075                44   \n",
      "1             1.0      0.230512      Ajax      0.683075                44   \n",
      "2             1.0      0.230512      Ajax      0.683075                44   \n",
      "3             1.0      0.230512      Ajax      0.683075                44   \n",
      "4             1.0      0.230512      Ajax      0.683075                44   \n",
      "...           ...           ...       ...           ...               ...   \n",
      "11494         1.0      0.190256  Giannina      0.010961                80   \n",
      "11495         1.0      0.190256  Giannina      0.010961                80   \n",
      "11496         1.0      0.190256  Giannina      0.010961                80   \n",
      "11497         1.0      0.190256  Giannina      0.010961                80   \n",
      "11498         1.0      0.190256  Giannina      0.010961                80   \n",
      "\n",
      "            club_name   _id  \n",
      "0      Ajax Amsterdam   610  \n",
      "1      Ajax Amsterdam   610  \n",
      "2      Ajax Amsterdam   610  \n",
      "3      Ajax Amsterdam   610  \n",
      "4      Ajax Amsterdam   610  \n",
      "...               ...   ...  \n",
      "11494    Pas Giannina  2671  \n",
      "11495    Pas Giannina  2671  \n",
      "11496    Pas Giannina  2671  \n",
      "11497    Pas Giannina  2671  \n",
      "11498    Pas Giannina  2671  \n",
      "\n",
      "[11499 rows x 17 columns]\n"
     ]
    },
    {
     "name": "stderr",
     "output_type": "stream",
     "text": [
      "C:\\Users\\Utente\\anaconda4\\lib\\site-packages\\pandas\\core\\frame.py:5039: SettingWithCopyWarning: \n",
      "A value is trying to be set on a copy of a slice from a DataFrame\n",
      "\n",
      "See the caveats in the documentation: https://pandas.pydata.org/pandas-docs/stable/user_guide/indexing.html#returning-a-view-versus-a-copy\n",
      "  return super().rename(\n"
     ]
    }
   ],
   "source": [
    "import pandas as pd\n",
    "\n",
    "# Leggi i file CSV\n",
    "match360_df = pd.read_csv(r\"C:\\Users\\Utente\\Desktop\\cakio\\dcereijo-player-scores\\data\\MATCH360.csv\")\n",
    "teamtry235_df = pd.read_csv(r\"C:\\Users\\Utente\\Desktop\\cakio\\dcereijo-player-scores\\data\\teamtry235.csv\")\n",
    "\n",
    "# Unisci i dataframe sulla base delle colonne \"home_club_id\" e \"_id\"\n",
    "merged_df = pd.merge(match360_df, teamtry235_df, left_on='home_club_id', right_on='_id')\n",
    "\n",
    "\n",
    "# Seleziona le colonne desiderate\n",
    "columns = ['club_home_name', 'club_away_name', 'competition_id', 'round', 'season',\n",
    "           'home_club_goals', 'away_club_goals', 'away_club_id', 'home_club_id',\n",
    "           'game_id', 'peso round', 'Overall']\n",
    "\n",
    "\n",
    "\n",
    "# Crea il dataframe finale senza le colonne indesiderate\n",
    "final_df = merged_df[columns]\n",
    "# Cambia il nome della colonna\n",
    "final_df.rename(columns={'Overall': 'Overall_home'}, inplace=True)\n",
    "\n",
    "# Unisci i dataframe sulla base delle colonne \"away_club_id\" e \"_id\"\n",
    "merged_df2 = pd.merge(final_df, teamtry235_df, left_on='away_club_id', right_on='_id')\n",
    "# Cambia il nome della colonna\n",
    "merged_df2.rename(columns={'Overall': 'Overall_away'}, inplace=True)\n",
    "# Visualizza il dataframe finale\n",
    "print(merged_df2)\n"
   ]
  },
  {
   "cell_type": "code",
   "execution_count": 2,
   "id": "494896d2",
   "metadata": {},
   "outputs": [],
   "source": [
    "\n",
    "\n",
    "merged_df2.to_csv(\"C:/Users/Utente/Desktop/cakio/dcereijo-player-scores/data/MATCHfinal4.csv\", index=False)"
   ]
  },
  {
   "cell_type": "code",
   "execution_count": null,
   "id": "115cf279",
   "metadata": {},
   "outputs": [],
   "source": []
  }
 ],
 "metadata": {
  "kernelspec": {
   "display_name": "Python 3",
   "language": "python",
   "name": "python3"
  },
  "language_info": {
   "codemirror_mode": {
    "name": "ipython",
    "version": 3
   },
   "file_extension": ".py",
   "mimetype": "text/x-python",
   "name": "python",
   "nbconvert_exporter": "python",
   "pygments_lexer": "ipython3",
   "version": "3.8.8"
  }
 },
 "nbformat": 4,
 "nbformat_minor": 5
}
