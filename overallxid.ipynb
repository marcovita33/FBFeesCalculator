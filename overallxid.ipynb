{
 "cells": [
  {
   "cell_type": "code",
   "execution_count": 2,
   "id": "d35b3b41",
   "metadata": {},
   "outputs": [
    {
     "name": "stdout",
     "output_type": "stream",
     "text": [
      "               name22   Overall  similarity_score          club_name   _id\n",
      "0     Manchester City  0.800956               100    Manchester City   281\n",
      "1       Bayern Munich  0.971131                80  Fc Bayern Munchen    27\n",
      "2         Real Madrid  1.000000               100        Real Madrid   418\n",
      "3           Barcelona  0.738862                86       Fc Barcelona   131\n",
      "4           Liverpool  0.789628                86       Fc Liverpool    31\n",
      "..                ...       ...               ...                ...   ...\n",
      "114         Atromitos  0.020291                75    Atromitos Athen  3060\n",
      "115        Kilmarnock  0.070747                87      Kilmarnock Fc  2553\n",
      "116  Asteras Tripolis  0.000000               100   Asteras Tripolis  6676\n",
      "117       KV Oostende  0.162690               100        Kv Oostende  2861\n",
      "118          Giannina  0.010961                80       Pas Giannina  2671\n",
      "\n",
      "[119 rows x 5 columns]\n"
     ]
    }
   ],
   "source": [
    "import pandas as pd\n",
    "from fuzzywuzzy import fuzz\n",
    "from fuzzywuzzy import process\n",
    "\n",
    "team_df = pd.read_csv(\"C:\\\\Users\\\\Utente\\\\Desktop\\\\cakio\\\\dcereijo-player-scores\\\\data\\\\TEAM.csv\")\n",
    "clubs_df = pd.read_csv(\"C:\\\\Users\\\\Utente\\\\Desktop\\\\cakio\\\\dcereijo-player-scores\\\\data\\\\clubs.csv\")\n",
    "\n",
    "def find_best_match(row):\n",
    "    name = row['name22']\n",
    "    matches = process.extractOne(name, clubs_df['name'], scorer=fuzz.token_sort_ratio)\n",
    "    if matches:\n",
    "        return matches[1], clubs_df.loc[matches[2], 'name'], clubs_df.loc[matches[2], 'club_id']\n",
    "    else:\n",
    "        return None, None, None\n",
    "\n",
    "team_df[['similarity_score', 'club_name', '_id']] = team_df.apply(find_best_match, axis=1, result_type='expand')\n",
    "\n",
    "print(team_df)\n"
   ]
  },
  {
   "cell_type": "code",
   "execution_count": 3,
   "id": "4f5b96f8",
   "metadata": {},
   "outputs": [],
   "source": [
    "team_df.to_csv(\"teamtry235.csv\", index=False)\n"
   ]
  },
  {
   "cell_type": "code",
   "execution_count": null,
   "id": "b3dc02ca",
   "metadata": {},
   "outputs": [],
   "source": []
  }
 ],
 "metadata": {
  "kernelspec": {
   "display_name": "Python 3",
   "language": "python",
   "name": "python3"
  },
  "language_info": {
   "codemirror_mode": {
    "name": "ipython",
    "version": 3
   },
   "file_extension": ".py",
   "mimetype": "text/x-python",
   "name": "python",
   "nbconvert_exporter": "python",
   "pygments_lexer": "ipython3",
   "version": "3.8.8"
  }
 },
 "nbformat": 4,
 "nbformat_minor": 5
}
