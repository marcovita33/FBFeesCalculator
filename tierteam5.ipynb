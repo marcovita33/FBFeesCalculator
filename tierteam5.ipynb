{
 "cells": [
  {
   "cell_type": "code",
   "execution_count": 10,
   "id": "376535f7",
   "metadata": {},
   "outputs": [
    {
     "name": "stdout",
     "output_type": "stream",
     "text": [
      "      Unnamed: 0  posizione   nn     nome squadra paese  13/14  14/15  15/16  \\\n",
      "0            0.0        1.0  0.0      Real Madrid   Esp   35.0   29.0   33.0   \n",
      "1            1.0        2.0  0.0    Bayern Munich   Ger   27.0   28.0   29.0   \n",
      "2            2.0        3.0  0.0     FC Barcelona   Esp   24.0   34.0   26.0   \n",
      "3            3.0        4.0  0.0         Juventus   Ita   23.0   29.0   18.0   \n",
      "4            4.0        5.0  0.0  Manchester City   Eng   19.0   15.0   26.0   \n",
      "...          ...        ...  ...              ...   ...    ...    ...    ...   \n",
      "1203         NaN        NaN  NaN              NaN   NaN    NaN    NaN    NaN   \n",
      "1204         NaN        NaN  NaN              NaN   NaN    NaN    NaN    NaN   \n",
      "1205         NaN        NaN  NaN              NaN   NaN    NaN    NaN    NaN   \n",
      "1206         NaN        NaN  NaN              NaN   NaN    NaN    NaN    NaN   \n",
      "1207         NaN        NaN  NaN              NaN   NaN    NaN    NaN    NaN   \n",
      "\n",
      "      16/17  17/18  ...  nome squadra pulito  name22 pulito_x   rank  \\\n",
      "0      33.0   32.0  ...          real madrid      real madrid    NaN   \n",
      "1      22.0   29.0  ...        bayern munich    bayern munich    NaN   \n",
      "2      23.0   25.0  ...         fc barcelona        barcelona    NaN   \n",
      "3      33.0   23.0  ...             juventus         juventus    NaN   \n",
      "4      18.0   22.0  ...      manchester city  manchester city    NaN   \n",
      "...     ...    ...  ...                  ...              ...    ...   \n",
      "1203    NaN    NaN  ...                  NaN              NaN  637.0   \n",
      "1204    NaN    NaN  ...                  NaN              NaN  638.0   \n",
      "1205    NaN    NaN  ...                  NaN              NaN  639.0   \n",
      "1206    NaN    NaN  ...                  NaN              NaN  640.0   \n",
      "1207    NaN    NaN  ...                  NaN              NaN  641.0   \n",
      "\n",
      "      prev_rank               name22                league   off   def   spi  \\\n",
      "0           NaN                  NaN                   NaN   NaN   NaN   NaN   \n",
      "1           NaN                  NaN                   NaN   NaN   NaN   NaN   \n",
      "2           NaN                  NaN                   NaN   NaN   NaN   NaN   \n",
      "3           NaN                  NaN                   NaN   NaN   NaN   NaN   \n",
      "4           NaN                  NaN                   NaN   NaN   NaN   NaN   \n",
      "...         ...                  ...                   ...   ...   ...   ...   \n",
      "1203      637.0  Forest Green Rovers    English League One  0.22  2.24  6.95   \n",
      "1204      629.0           Hartlepool    English League Two  0.33  2.58  6.84   \n",
      "1205      639.0     Doncaster Rovers    English League Two  0.20  2.29  6.39   \n",
      "1206      640.0         Crawley Town    English League Two  0.22  2.51  5.55   \n",
      "1207      641.0        Guizhou Renhe  Chinese Super League  0.20  2.61  4.86   \n",
      "\n",
      "          name22 pulito_y  \n",
      "0                     NaN  \n",
      "1                     NaN  \n",
      "2                     NaN  \n",
      "3                     NaN  \n",
      "4                     NaN  \n",
      "...                   ...  \n",
      "1203  forest green rovers  \n",
      "1204           hartlepool  \n",
      "1205     doncaster rovers  \n",
      "1206         crawley town  \n",
      "1207        guizhou renhe  \n",
      "\n",
      "[1208 rows x 28 columns]\n"
     ]
    }
   ],
   "source": [
    "import pandas as pd\n",
    "from fuzzywuzzy import process\n",
    "\n",
    "# leggi i dataset\n",
    "df1 = pd.read_csv('C:\\\\Users\\\\Utente\\\\Desktop\\\\cakio\\\\dcereijo-player-scores\\\\data\\\\uefarankteam3.csv', encoding='ISO-8859-1')\n",
    "df2 = pd.read_csv('C:\\\\Users\\\\Utente\\\\Desktop\\\\cakio\\\\dcereijo-player-scores\\\\data\\\\spi_global_rankings.csv')\n",
    "\n",
    "# sostituisci tutti i missing value con 0\n",
    "df1 = df1.fillna(0)\n",
    "df2 = df2.fillna(0)\n",
    "\n",
    "# crea una nuova colonna \"nome squadra pulito\" in df1\n",
    "df1['nome squadra pulito'] = df1['nome squadra'].str.lower().str.strip()\n",
    "\n",
    "# crea una nuova colonna \"name22 pulito\" in df2\n",
    "df2['name22 pulito'] = df2['name22'].str.lower().str.strip()\n",
    "\n",
    "# imposta il quoziente di similarità minimo al 70%\n",
    "min_similarity = 70\n",
    "\n",
    "# crea una funzione per trovare la stringa più simile in df2 per ogni riga in df1\n",
    "def find_similar_name(row):\n",
    "    name1 = row['nome squadra pulito']\n",
    "    matches = process.extractOne(name1, df2['name22 pulito'])\n",
    "    if matches[1] >= min_similarity:\n",
    "        return matches[0]\n",
    "    else:\n",
    "        return None\n",
    "\n",
    "# crea una nuova colonna \"name22 pulito\" in df1\n",
    "df1['name22 pulito'] = df1.apply(find_similar_name, axis=1)\n",
    "\n",
    "# unisci i due dataset in base alla colonna \"nome squadra\" e \"name22 pulito\"\n",
    "merged_df = df1.merge(df2, how='outer', left_on='name22 pulito', right_on='name22')\n",
    "# visualizza il risultato\n",
    "print(merged_df)\n"
   ]
  },
  {
   "cell_type": "code",
   "execution_count": 11,
   "id": "10fbfecb",
   "metadata": {},
   "outputs": [
    {
     "name": "stdout",
     "output_type": "stream",
     "text": [
      "     Unnamed: 0  posizione   nn      nome squadra paese  13/14  14/15  15/16  \\\n",
      "0           0.0        1.0  0.0       Real Madrid   Esp   35.0   29.0   33.0   \n",
      "1           1.0        2.0  0.0     Bayern Munich   Ger   27.0   28.0   29.0   \n",
      "2           2.0        3.0  0.0      FC Barcelona   Esp   24.0   34.0   26.0   \n",
      "3           3.0        4.0  0.0          Juventus   Ita   23.0   29.0   18.0   \n",
      "4           4.0        5.0  0.0   Manchester City   Eng   19.0   15.0   26.0   \n",
      "..          ...        ...  ...               ...   ...    ...    ...    ...   \n",
      "513       256.0        0.0  0.0        AGF Aarhus   Den    0.0    0.0    0.0   \n",
      "514       257.0        0.0  0.0      SÃ¸nderjyskE   Den    0.0    0.0    0.0   \n",
      "515       258.0        0.0  0.0  FC NordsjÃ¦lland   Den    1.5    0.0    0.0   \n",
      "516       259.0        0.0  0.0         Lyngby BK   Den    0.0    0.0    0.0   \n",
      "517       260.0        0.0  0.0       AaB Aalborg   Den    0.5    6.0    0.0   \n",
      "\n",
      "     16/17  17/18  ...  nome squadra pulito    name22 pulito_x  rank  \\\n",
      "0     33.0   32.0  ...          real madrid        real madrid   NaN   \n",
      "1     22.0   29.0  ...        bayern munich      bayern munich   NaN   \n",
      "2     23.0   25.0  ...         fc barcelona          barcelona   NaN   \n",
      "3     33.0   23.0  ...             juventus           juventus   NaN   \n",
      "4     18.0   22.0  ...      manchester city    manchester city   NaN   \n",
      "..     ...    ...  ...                  ...                ...   ...   \n",
      "513    0.0    0.0  ...           agf aarhus         agf aarhus   NaN   \n",
      "514    1.5    0.0  ...         sã¸nderjyske  newell's old boys   NaN   \n",
      "515    0.0    0.0  ...     fc nordsjã¦lland   fc nordsjaelland   NaN   \n",
      "516    0.0    1.0  ...            lyngby bk             lyngby   NaN   \n",
      "517    0.0    0.0  ...          aab aalborg                aab   NaN   \n",
      "\n",
      "     prev_rank  name22  league  off  def spi name22 pulito_y  \n",
      "0          NaN     NaN     NaN  NaN  NaN NaN             NaN  \n",
      "1          NaN     NaN     NaN  NaN  NaN NaN             NaN  \n",
      "2          NaN     NaN     NaN  NaN  NaN NaN             NaN  \n",
      "3          NaN     NaN     NaN  NaN  NaN NaN             NaN  \n",
      "4          NaN     NaN     NaN  NaN  NaN NaN             NaN  \n",
      "..         ...     ...     ...  ...  ...  ..             ...  \n",
      "513        NaN     NaN     NaN  NaN  NaN NaN             NaN  \n",
      "514        NaN     NaN     NaN  NaN  NaN NaN             NaN  \n",
      "515        NaN     NaN     NaN  NaN  NaN NaN             NaN  \n",
      "516        NaN     NaN     NaN  NaN  NaN NaN             NaN  \n",
      "517        NaN     NaN     NaN  NaN  NaN NaN             NaN  \n",
      "\n",
      "[151 rows x 28 columns]\n"
     ]
    }
   ],
   "source": [
    "desired_countries = ['Ger', 'Eng', 'Ita', 'Esp', 'Fra', 'Tur', 'Ned', 'por', 'Bel', 'Rus', 'Gre', 'Sco', 'Den']\n",
    "df3 = merged_df[merged_df['paese'].isin(desired_countries)]\n",
    "print(df3)"
   ]
  },
  {
   "cell_type": "code",
   "execution_count": 14,
   "id": "df20bed7",
   "metadata": {},
   "outputs": [
    {
     "ename": "KeyError",
     "evalue": "\"['Unnamed: 0' 'posizione' 'nn' 'rank' 'prev_rank' 'name22'\\n 'name22 pulito_y'] not found in axis\"",
     "output_type": "error",
     "traceback": [
      "\u001b[1;31m---------------------------------------------------------------------------\u001b[0m",
      "\u001b[1;31mKeyError\u001b[0m                                  Traceback (most recent call last)",
      "\u001b[1;32m<ipython-input-14-2a5bc6588474>\u001b[0m in \u001b[0;36m<module>\u001b[1;34m\u001b[0m\n\u001b[1;32m----> 1\u001b[1;33m \u001b[0mdf3\u001b[0m \u001b[1;33m=\u001b[0m \u001b[0mdf3\u001b[0m\u001b[1;33m.\u001b[0m\u001b[0mdrop\u001b[0m\u001b[1;33m(\u001b[0m\u001b[0mcolumns\u001b[0m\u001b[1;33m=\u001b[0m\u001b[1;33m[\u001b[0m\u001b[1;34m'Unnamed: 0'\u001b[0m\u001b[1;33m,\u001b[0m \u001b[1;34m'posizione'\u001b[0m\u001b[1;33m,\u001b[0m \u001b[1;34m'nn'\u001b[0m\u001b[1;33m,\u001b[0m \u001b[1;34m'rank'\u001b[0m\u001b[1;33m,\u001b[0m \u001b[1;34m'prev_rank'\u001b[0m\u001b[1;33m,\u001b[0m \u001b[1;34m'name22'\u001b[0m\u001b[1;33m,\u001b[0m \u001b[1;34m'name22 pulito_y'\u001b[0m\u001b[1;33m]\u001b[0m\u001b[1;33m)\u001b[0m\u001b[1;33m\u001b[0m\u001b[1;33m\u001b[0m\u001b[0m\n\u001b[0m\u001b[0;32m      2\u001b[0m \u001b[0mprint\u001b[0m\u001b[1;33m(\u001b[0m\u001b[0mdf3\u001b[0m\u001b[1;33m)\u001b[0m\u001b[1;33m\u001b[0m\u001b[1;33m\u001b[0m\u001b[0m\n",
      "\u001b[1;32m~\\anaconda4\\lib\\site-packages\\pandas\\util\\_decorators.py\u001b[0m in \u001b[0;36mwrapper\u001b[1;34m(*args, **kwargs)\u001b[0m\n\u001b[0;32m    309\u001b[0m                     \u001b[0mstacklevel\u001b[0m\u001b[1;33m=\u001b[0m\u001b[0mstacklevel\u001b[0m\u001b[1;33m,\u001b[0m\u001b[1;33m\u001b[0m\u001b[1;33m\u001b[0m\u001b[0m\n\u001b[0;32m    310\u001b[0m                 )\n\u001b[1;32m--> 311\u001b[1;33m             \u001b[1;32mreturn\u001b[0m \u001b[0mfunc\u001b[0m\u001b[1;33m(\u001b[0m\u001b[1;33m*\u001b[0m\u001b[0margs\u001b[0m\u001b[1;33m,\u001b[0m \u001b[1;33m**\u001b[0m\u001b[0mkwargs\u001b[0m\u001b[1;33m)\u001b[0m\u001b[1;33m\u001b[0m\u001b[1;33m\u001b[0m\u001b[0m\n\u001b[0m\u001b[0;32m    312\u001b[0m \u001b[1;33m\u001b[0m\u001b[0m\n\u001b[0;32m    313\u001b[0m         \u001b[1;32mreturn\u001b[0m \u001b[0mwrapper\u001b[0m\u001b[1;33m\u001b[0m\u001b[1;33m\u001b[0m\u001b[0m\n",
      "\u001b[1;32m~\\anaconda4\\lib\\site-packages\\pandas\\core\\frame.py\u001b[0m in \u001b[0;36mdrop\u001b[1;34m(self, labels, axis, index, columns, level, inplace, errors)\u001b[0m\n\u001b[0;32m   4904\u001b[0m                 \u001b[0mweight\u001b[0m  \u001b[1;36m1.0\u001b[0m     \u001b[1;36m0.8\u001b[0m\u001b[1;33m\u001b[0m\u001b[1;33m\u001b[0m\u001b[0m\n\u001b[0;32m   4905\u001b[0m         \"\"\"\n\u001b[1;32m-> 4906\u001b[1;33m         return super().drop(\n\u001b[0m\u001b[0;32m   4907\u001b[0m             \u001b[0mlabels\u001b[0m\u001b[1;33m=\u001b[0m\u001b[0mlabels\u001b[0m\u001b[1;33m,\u001b[0m\u001b[1;33m\u001b[0m\u001b[1;33m\u001b[0m\u001b[0m\n\u001b[0;32m   4908\u001b[0m             \u001b[0maxis\u001b[0m\u001b[1;33m=\u001b[0m\u001b[0maxis\u001b[0m\u001b[1;33m,\u001b[0m\u001b[1;33m\u001b[0m\u001b[1;33m\u001b[0m\u001b[0m\n",
      "\u001b[1;32m~\\anaconda4\\lib\\site-packages\\pandas\\core\\generic.py\u001b[0m in \u001b[0;36mdrop\u001b[1;34m(self, labels, axis, index, columns, level, inplace, errors)\u001b[0m\n\u001b[0;32m   4148\u001b[0m         \u001b[1;32mfor\u001b[0m \u001b[0maxis\u001b[0m\u001b[1;33m,\u001b[0m \u001b[0mlabels\u001b[0m \u001b[1;32min\u001b[0m \u001b[0maxes\u001b[0m\u001b[1;33m.\u001b[0m\u001b[0mitems\u001b[0m\u001b[1;33m(\u001b[0m\u001b[1;33m)\u001b[0m\u001b[1;33m:\u001b[0m\u001b[1;33m\u001b[0m\u001b[1;33m\u001b[0m\u001b[0m\n\u001b[0;32m   4149\u001b[0m             \u001b[1;32mif\u001b[0m \u001b[0mlabels\u001b[0m \u001b[1;32mis\u001b[0m \u001b[1;32mnot\u001b[0m \u001b[1;32mNone\u001b[0m\u001b[1;33m:\u001b[0m\u001b[1;33m\u001b[0m\u001b[1;33m\u001b[0m\u001b[0m\n\u001b[1;32m-> 4150\u001b[1;33m                 \u001b[0mobj\u001b[0m \u001b[1;33m=\u001b[0m \u001b[0mobj\u001b[0m\u001b[1;33m.\u001b[0m\u001b[0m_drop_axis\u001b[0m\u001b[1;33m(\u001b[0m\u001b[0mlabels\u001b[0m\u001b[1;33m,\u001b[0m \u001b[0maxis\u001b[0m\u001b[1;33m,\u001b[0m \u001b[0mlevel\u001b[0m\u001b[1;33m=\u001b[0m\u001b[0mlevel\u001b[0m\u001b[1;33m,\u001b[0m \u001b[0merrors\u001b[0m\u001b[1;33m=\u001b[0m\u001b[0merrors\u001b[0m\u001b[1;33m)\u001b[0m\u001b[1;33m\u001b[0m\u001b[1;33m\u001b[0m\u001b[0m\n\u001b[0m\u001b[0;32m   4151\u001b[0m \u001b[1;33m\u001b[0m\u001b[0m\n\u001b[0;32m   4152\u001b[0m         \u001b[1;32mif\u001b[0m \u001b[0minplace\u001b[0m\u001b[1;33m:\u001b[0m\u001b[1;33m\u001b[0m\u001b[1;33m\u001b[0m\u001b[0m\n",
      "\u001b[1;32m~\\anaconda4\\lib\\site-packages\\pandas\\core\\generic.py\u001b[0m in \u001b[0;36m_drop_axis\u001b[1;34m(self, labels, axis, level, errors)\u001b[0m\n\u001b[0;32m   4183\u001b[0m                 \u001b[0mnew_axis\u001b[0m \u001b[1;33m=\u001b[0m \u001b[0maxis\u001b[0m\u001b[1;33m.\u001b[0m\u001b[0mdrop\u001b[0m\u001b[1;33m(\u001b[0m\u001b[0mlabels\u001b[0m\u001b[1;33m,\u001b[0m \u001b[0mlevel\u001b[0m\u001b[1;33m=\u001b[0m\u001b[0mlevel\u001b[0m\u001b[1;33m,\u001b[0m \u001b[0merrors\u001b[0m\u001b[1;33m=\u001b[0m\u001b[0merrors\u001b[0m\u001b[1;33m)\u001b[0m\u001b[1;33m\u001b[0m\u001b[1;33m\u001b[0m\u001b[0m\n\u001b[0;32m   4184\u001b[0m             \u001b[1;32melse\u001b[0m\u001b[1;33m:\u001b[0m\u001b[1;33m\u001b[0m\u001b[1;33m\u001b[0m\u001b[0m\n\u001b[1;32m-> 4185\u001b[1;33m                 \u001b[0mnew_axis\u001b[0m \u001b[1;33m=\u001b[0m \u001b[0maxis\u001b[0m\u001b[1;33m.\u001b[0m\u001b[0mdrop\u001b[0m\u001b[1;33m(\u001b[0m\u001b[0mlabels\u001b[0m\u001b[1;33m,\u001b[0m \u001b[0merrors\u001b[0m\u001b[1;33m=\u001b[0m\u001b[0merrors\u001b[0m\u001b[1;33m)\u001b[0m\u001b[1;33m\u001b[0m\u001b[1;33m\u001b[0m\u001b[0m\n\u001b[0m\u001b[0;32m   4186\u001b[0m             \u001b[0mresult\u001b[0m \u001b[1;33m=\u001b[0m \u001b[0mself\u001b[0m\u001b[1;33m.\u001b[0m\u001b[0mreindex\u001b[0m\u001b[1;33m(\u001b[0m\u001b[1;33m**\u001b[0m\u001b[1;33m{\u001b[0m\u001b[0maxis_name\u001b[0m\u001b[1;33m:\u001b[0m \u001b[0mnew_axis\u001b[0m\u001b[1;33m}\u001b[0m\u001b[1;33m)\u001b[0m\u001b[1;33m\u001b[0m\u001b[1;33m\u001b[0m\u001b[0m\n\u001b[0;32m   4187\u001b[0m \u001b[1;33m\u001b[0m\u001b[0m\n",
      "\u001b[1;32m~\\anaconda4\\lib\\site-packages\\pandas\\core\\indexes\\base.py\u001b[0m in \u001b[0;36mdrop\u001b[1;34m(self, labels, errors)\u001b[0m\n\u001b[0;32m   6015\u001b[0m         \u001b[1;32mif\u001b[0m \u001b[0mmask\u001b[0m\u001b[1;33m.\u001b[0m\u001b[0many\u001b[0m\u001b[1;33m(\u001b[0m\u001b[1;33m)\u001b[0m\u001b[1;33m:\u001b[0m\u001b[1;33m\u001b[0m\u001b[1;33m\u001b[0m\u001b[0m\n\u001b[0;32m   6016\u001b[0m             \u001b[1;32mif\u001b[0m \u001b[0merrors\u001b[0m \u001b[1;33m!=\u001b[0m \u001b[1;34m\"ignore\"\u001b[0m\u001b[1;33m:\u001b[0m\u001b[1;33m\u001b[0m\u001b[1;33m\u001b[0m\u001b[0m\n\u001b[1;32m-> 6017\u001b[1;33m                 \u001b[1;32mraise\u001b[0m \u001b[0mKeyError\u001b[0m\u001b[1;33m(\u001b[0m\u001b[1;34mf\"{labels[mask]} not found in axis\"\u001b[0m\u001b[1;33m)\u001b[0m\u001b[1;33m\u001b[0m\u001b[1;33m\u001b[0m\u001b[0m\n\u001b[0m\u001b[0;32m   6018\u001b[0m             \u001b[0mindexer\u001b[0m \u001b[1;33m=\u001b[0m \u001b[0mindexer\u001b[0m\u001b[1;33m[\u001b[0m\u001b[1;33m~\u001b[0m\u001b[0mmask\u001b[0m\u001b[1;33m]\u001b[0m\u001b[1;33m\u001b[0m\u001b[1;33m\u001b[0m\u001b[0m\n\u001b[0;32m   6019\u001b[0m         \u001b[1;32mreturn\u001b[0m \u001b[0mself\u001b[0m\u001b[1;33m.\u001b[0m\u001b[0mdelete\u001b[0m\u001b[1;33m(\u001b[0m\u001b[0mindexer\u001b[0m\u001b[1;33m)\u001b[0m\u001b[1;33m\u001b[0m\u001b[1;33m\u001b[0m\u001b[0m\n",
      "\u001b[1;31mKeyError\u001b[0m: \"['Unnamed: 0' 'posizione' 'nn' 'rank' 'prev_rank' 'name22'\\n 'name22 pulito_y'] not found in axis\""
     ]
    }
   ],
   "source": [
    "df3 = df3.drop(columns=['Unnamed: 0', 'posizione', 'nn', 'rank', 'prev_rank', 'name22', 'name22 pulito_y'])\n",
    "print(df3)\n"
   ]
  },
  {
   "cell_type": "code",
   "execution_count": 15,
   "id": "340a8f41",
   "metadata": {},
   "outputs": [
    {
     "name": "stdout",
     "output_type": "stream",
     "text": [
      "Index(['nome squadra', 'paese', '13/14', '14/15', '15/16', '16/17', '17/18',\n",
      "       '18/19', '19/20', '20/21', '21/22', '22/23', 'TitlePoints',\n",
      "       'CountryPart', 'UEFAPoints', 'nome squadra pulito', 'name22 pulito_x',\n",
      "       'league', 'off', 'def', 'spi'],\n",
      "      dtype='object')\n"
     ]
    }
   ],
   "source": [
    "print(df3.columns)\n"
   ]
  },
  {
   "cell_type": "code",
   "execution_count": 16,
   "id": "a8b02ef1",
   "metadata": {},
   "outputs": [],
   "source": [
    "df3.to_csv(r\"C:\\Users\\Utente\\Desktop\\cakio\\dcereijo-player-scores\\data\\trytierteam.csv\", index=True)"
   ]
  },
  {
   "cell_type": "code",
   "execution_count": null,
   "id": "c7db3973",
   "metadata": {},
   "outputs": [],
   "source": []
  }
 ],
 "metadata": {
  "kernelspec": {
   "display_name": "Python 3",
   "language": "python",
   "name": "python3"
  },
  "language_info": {
   "codemirror_mode": {
    "name": "ipython",
    "version": 3
   },
   "file_extension": ".py",
   "mimetype": "text/x-python",
   "name": "python",
   "nbconvert_exporter": "python",
   "pygments_lexer": "ipython3",
   "version": "3.8.8"
  }
 },
 "nbformat": 4,
 "nbformat_minor": 5
}
