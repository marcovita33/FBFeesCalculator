{
 "cells": [
  {
   "cell_type": "code",
   "execution_count": 3,
   "id": "621038f3",
   "metadata": {},
   "outputs": [
    {
     "name": "stdout",
     "output_type": "stream",
     "text": [
      "Mean Squared Error: 27.677395450398134\n",
      "R-squared: 0.42895554197906616\n"
     ]
    }
   ],
   "source": [
    "import pandas as pd\n",
    "from sklearn.model_selection import train_test_split\n",
    "from sklearn.preprocessing import OneHotEncoder\n",
    "import xgboost as xgb\n",
    "from sklearn.metrics import mean_squared_error, r2_score\n",
    "###XGBOOST\n",
    "# Carica il dataset dal tuo CSV\n",
    "df = pd.read_csv(\"C:/Users/Utente/Desktop/cakio/dcereijo-player-scores/data/transfers3.csv\")\n",
    "\n",
    "# Seleziona le feature che desideri utilizzare per la regressione\n",
    "features = ['age', 'OverallSeasonClub', 'OverallSeasonClub2', 'Overall_club_name',  'Overall_club_involved']\n",
    "\n",
    "# Seleziona la variabile target\n",
    "target = 'fee_cleaned'\n",
    "\n",
    "# Dividi il dataset in caratteristiche e variabile target\n",
    "X = df[features]\n",
    "y = df[target]\n",
    "\n",
    "# Codifica le caratteristiche categoriche\n",
    "cat_features = ['club_name', 'player_name', 'position', 'club_involved_name', 'transfer_period', 'league_name', 'season','league_destination']\n",
    "encoder = OneHotEncoder(sparse=False, drop='first')\n",
    "X_encoded = pd.DataFrame(encoder.fit_transform(df[cat_features]))\n",
    "\n",
    "# Concatena le caratteristiche codificate con quelle numeriche\n",
    "X = pd.concat([X, X_encoded], axis=1)\n",
    "\n",
    "# Dividi i dati in set di addestramento e di test\n",
    "X_train, X_test, y_train, y_test = train_test_split(X, y, test_size=0.01, random_state=60)\n",
    "\n",
    "# Crea il modello XGBoost\n",
    "xgboost_model = xgb.XGBRegressor()\n",
    "\n",
    "# Adatta il modello ai dati di addestramento\n",
    "xgboost_model.fit(X_train, y_train)\n",
    "\n",
    "# Fai le previsioni sul set di test\n",
    "y_pred = xgboost_model.predict(X_test)\n",
    "\n",
    "# Valuta le prestazioni del modello\n",
    "mse = mean_squared_error(y_test, y_pred)\n",
    "r2 = r2_score(y_test, y_pred)\n",
    "\n",
    "print(\"Mean Squared Error:\", mse)\n",
    "print(\"R-squared:\", r2)\n"
   ]
  },
  {
   "cell_type": "code",
   "execution_count": 5,
   "id": "5a0abd1e",
   "metadata": {},
   "outputs": [
    {
     "name": "stdout",
     "output_type": "stream",
     "text": [
      "Mean Squared Error: 86.11032356396835\n",
      "R-squared: 0.4782616562565495\n"
     ]
    }
   ],
   "source": [
    "import pandas as pd\n",
    "from sklearn.model_selection import train_test_split\n",
    "from sklearn.preprocessing import OneHotEncoder\n",
    "import xgboost as xgb\n",
    "from sklearn.metrics import mean_squared_error, r2_score\n",
    "###XGBOOST\n",
    "# Carica il dataset dal tuo CSV\n",
    "df = pd.read_csv(\"C:/Users/Utente/Desktop/cakio/dcereijo-player-scores/data/transfers3.csv\")\n",
    "\n",
    "# Seleziona le feature che desideri utilizzare per la regressione\n",
    "features = ['age', 'OverallSeasonClub', 'OverallSeasonClub2', 'Overall_club_name',  'Overall_club_involved']\n",
    "\n",
    "# Seleziona la variabile target\n",
    "target = 'fee_cleaned'\n",
    "\n",
    "# Dividi il dataset in caratteristiche e variabile target\n",
    "X = df[features]\n",
    "y = df[target]\n",
    "\n",
    "# Codifica le caratteristiche categoriche\n",
    "cat_features = ['club_name', 'player_name', 'position', 'club_involved_name', 'transfer_period', 'league_name', 'season','league_destination']\n",
    "encoder = OneHotEncoder(sparse=False, drop='first')\n",
    "X_encoded = pd.DataFrame(encoder.fit_transform(df[cat_features]))\n",
    "\n",
    "# Concatena le caratteristiche codificate con quelle numeriche\n",
    "X = pd.concat([X, X_encoded], axis=1)\n",
    "\n",
    "# Dividi i dati in set di addestramento e di test\n",
    "X_train, X_test, y_train, y_test = train_test_split(X, y, test_size=0.2, random_state=42)\n",
    "\n",
    "# Crea il modello XGBoost\n",
    "xgboost_model = xgb.XGBRegressor()\n",
    "\n",
    "# Adatta il modello ai dati di addestramento\n",
    "xgboost_model.fit(X_train, y_train)\n",
    "\n",
    "# Fai le previsioni sul set di test\n",
    "y_pred = xgboost_model.predict(X_test)\n",
    "\n",
    "# Valuta le prestazioni del modello\n",
    "mse = mean_squared_error(y_test, y_pred)\n",
    "r2 = r2_score(y_test, y_pred)\n",
    "\n",
    "print(\"Mean Squared Error:\", mse)\n",
    "print(\"R-squared:\", r2)\n"
   ]
  },
  {
   "cell_type": "code",
   "execution_count": 4,
   "id": "8abdd06a",
   "metadata": {},
   "outputs": [
    {
     "name": "stdout",
     "output_type": "stream",
     "text": [
      "Mean Squared Error: 69.22905137338385\n",
      "R-squared: 0.47286207774826494\n"
     ]
    }
   ],
   "source": [
    "import pandas as pd\n",
    "from sklearn.model_selection import train_test_split\n",
    "from sklearn.preprocessing import OneHotEncoder\n",
    "import xgboost as xgb\n",
    "from sklearn.metrics import mean_squared_error, r2_score\n",
    "###XGBOOST\n",
    "# Carica il dataset dal tuo CSV\n",
    "df = pd.read_csv(\"C:/Users/Utente/Desktop/cakio/dcereijo-player-scores/data/transfers_filtered.csv\")\n",
    "\n",
    "# Seleziona le feature che desideri utilizzare per la regressione\n",
    "features = ['age', 'OverallSeasonClub', 'OverallSeasonClub2', 'Overall_club_name',  'Overall_club_involved']\n",
    "\n",
    "# Seleziona la variabile target\n",
    "target = 'fee_cleaned'\n",
    "\n",
    "# Dividi il dataset in caratteristiche e variabile target\n",
    "X = df[features]\n",
    "y = df[target]\n",
    "\n",
    "# Codifica le caratteristiche categoriche\n",
    "cat_features = ['club_name', 'player_name', 'position', 'club_involved_name', 'transfer_period', 'league_name', 'season','league_destination']\n",
    "encoder = OneHotEncoder(sparse=False, drop='first')\n",
    "X_encoded = pd.DataFrame(encoder.fit_transform(df[cat_features]))\n",
    "\n",
    "# Concatena le caratteristiche codificate con quelle numeriche\n",
    "X = pd.concat([X, X_encoded], axis=1)\n",
    "\n",
    "# Dividi i dati in set di addestramento e di test\n",
    "X_train, X_test, y_train, y_test = train_test_split(X, y, test_size=0.2, random_state=42)\n",
    "\n",
    "# Crea il modello XGBoost\n",
    "xgboost_model = xgb.XGBRegressor()\n",
    "\n",
    "# Adatta il modello ai dati di addestramento\n",
    "xgboost_model.fit(X_train, y_train)\n",
    "\n",
    "# Fai le previsioni sul set di test\n",
    "y_pred = xgboost_model.predict(X_test)\n",
    "\n",
    "# Valuta le prestazioni del modello\n",
    "mse = mean_squared_error(y_test, y_pred)\n",
    "r2 = r2_score(y_test, y_pred)\n",
    "\n",
    "print(\"Mean Squared Error:\", mse)\n",
    "print(\"R-squared:\", r2)"
   ]
  },
  {
   "cell_type": "code",
   "execution_count": null,
   "id": "ebfa75b5",
   "metadata": {},
   "outputs": [],
   "source": []
  }
 ],
 "metadata": {
  "kernelspec": {
   "display_name": "Python 3",
   "language": "python",
   "name": "python3"
  },
  "language_info": {
   "codemirror_mode": {
    "name": "ipython",
    "version": 3
   },
   "file_extension": ".py",
   "mimetype": "text/x-python",
   "name": "python",
   "nbconvert_exporter": "python",
   "pygments_lexer": "ipython3",
   "version": "3.8.8"
  }
 },
 "nbformat": 4,
 "nbformat_minor": 5
}
